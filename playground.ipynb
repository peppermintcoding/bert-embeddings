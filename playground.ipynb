{
 "cells": [
  {
   "cell_type": "code",
   "execution_count": 1,
   "metadata": {},
   "outputs": [],
   "source": [
    "from transformers import BertTokenizer, BertModel\n",
    "import torch"
   ]
  },
  {
   "cell_type": "code",
   "execution_count": 8,
   "metadata": {},
   "outputs": [
    {
     "name": "stderr",
     "output_type": "stream",
     "text": [
      "Downloading (…)\"pytorch_model.bin\";: 100%|██████████| 440M/440M [00:02<00:00, 162MB/s] \n",
      "Some weights of the model checkpoint at bert-base-uncased were not used when initializing BertModel: ['cls.seq_relationship.weight', 'cls.predictions.decoder.weight', 'cls.predictions.transform.dense.weight', 'cls.seq_relationship.bias', 'cls.predictions.transform.LayerNorm.weight', 'cls.predictions.transform.LayerNorm.bias', 'cls.predictions.transform.dense.bias', 'cls.predictions.bias']\n",
      "- This IS expected if you are initializing BertModel from the checkpoint of a model trained on another task or with another architecture (e.g. initializing a BertForSequenceClassification model from a BertForPreTraining model).\n",
      "- This IS NOT expected if you are initializing BertModel from the checkpoint of a model that you expect to be exactly identical (initializing a BertForSequenceClassification model from a BertForSequenceClassification model).\n"
     ]
    }
   ],
   "source": [
    "tokenizer = BertTokenizer.from_pretrained(\"bert-base-uncased\")\n",
    "model = BertModel.from_pretrained(\"bert-base-uncased\", output_hidden_states = True)"
   ]
  },
  {
   "cell_type": "code",
   "execution_count": 10,
   "metadata": {},
   "outputs": [
    {
     "data": {
      "text/plain": [
       "BertModel(\n",
       "  (embeddings): BertEmbeddings(\n",
       "    (word_embeddings): Embedding(30522, 768, padding_idx=0)\n",
       "    (position_embeddings): Embedding(512, 768)\n",
       "    (token_type_embeddings): Embedding(2, 768)\n",
       "    (LayerNorm): LayerNorm((768,), eps=1e-12, elementwise_affine=True)\n",
       "    (dropout): Dropout(p=0.1, inplace=False)\n",
       "  )\n",
       "  (encoder): BertEncoder(\n",
       "    (layer): ModuleList(\n",
       "      (0): BertLayer(\n",
       "        (attention): BertAttention(\n",
       "          (self): BertSelfAttention(\n",
       "            (query): Linear(in_features=768, out_features=768, bias=True)\n",
       "            (key): Linear(in_features=768, out_features=768, bias=True)\n",
       "            (value): Linear(in_features=768, out_features=768, bias=True)\n",
       "            (dropout): Dropout(p=0.1, inplace=False)\n",
       "          )\n",
       "          (output): BertSelfOutput(\n",
       "            (dense): Linear(in_features=768, out_features=768, bias=True)\n",
       "            (LayerNorm): LayerNorm((768,), eps=1e-12, elementwise_affine=True)\n",
       "            (dropout): Dropout(p=0.1, inplace=False)\n",
       "          )\n",
       "        )\n",
       "        (intermediate): BertIntermediate(\n",
       "          (dense): Linear(in_features=768, out_features=3072, bias=True)\n",
       "          (intermediate_act_fn): GELUActivation()\n",
       "        )\n",
       "        (output): BertOutput(\n",
       "          (dense): Linear(in_features=3072, out_features=768, bias=True)\n",
       "          (LayerNorm): LayerNorm((768,), eps=1e-12, elementwise_affine=True)\n",
       "          (dropout): Dropout(p=0.1, inplace=False)\n",
       "        )\n",
       "      )\n",
       "      (1): BertLayer(\n",
       "        (attention): BertAttention(\n",
       "          (self): BertSelfAttention(\n",
       "            (query): Linear(in_features=768, out_features=768, bias=True)\n",
       "            (key): Linear(in_features=768, out_features=768, bias=True)\n",
       "            (value): Linear(in_features=768, out_features=768, bias=True)\n",
       "            (dropout): Dropout(p=0.1, inplace=False)\n",
       "          )\n",
       "          (output): BertSelfOutput(\n",
       "            (dense): Linear(in_features=768, out_features=768, bias=True)\n",
       "            (LayerNorm): LayerNorm((768,), eps=1e-12, elementwise_affine=True)\n",
       "            (dropout): Dropout(p=0.1, inplace=False)\n",
       "          )\n",
       "        )\n",
       "        (intermediate): BertIntermediate(\n",
       "          (dense): Linear(in_features=768, out_features=3072, bias=True)\n",
       "          (intermediate_act_fn): GELUActivation()\n",
       "        )\n",
       "        (output): BertOutput(\n",
       "          (dense): Linear(in_features=3072, out_features=768, bias=True)\n",
       "          (LayerNorm): LayerNorm((768,), eps=1e-12, elementwise_affine=True)\n",
       "          (dropout): Dropout(p=0.1, inplace=False)\n",
       "        )\n",
       "      )\n",
       "      (2): BertLayer(\n",
       "        (attention): BertAttention(\n",
       "          (self): BertSelfAttention(\n",
       "            (query): Linear(in_features=768, out_features=768, bias=True)\n",
       "            (key): Linear(in_features=768, out_features=768, bias=True)\n",
       "            (value): Linear(in_features=768, out_features=768, bias=True)\n",
       "            (dropout): Dropout(p=0.1, inplace=False)\n",
       "          )\n",
       "          (output): BertSelfOutput(\n",
       "            (dense): Linear(in_features=768, out_features=768, bias=True)\n",
       "            (LayerNorm): LayerNorm((768,), eps=1e-12, elementwise_affine=True)\n",
       "            (dropout): Dropout(p=0.1, inplace=False)\n",
       "          )\n",
       "        )\n",
       "        (intermediate): BertIntermediate(\n",
       "          (dense): Linear(in_features=768, out_features=3072, bias=True)\n",
       "          (intermediate_act_fn): GELUActivation()\n",
       "        )\n",
       "        (output): BertOutput(\n",
       "          (dense): Linear(in_features=3072, out_features=768, bias=True)\n",
       "          (LayerNorm): LayerNorm((768,), eps=1e-12, elementwise_affine=True)\n",
       "          (dropout): Dropout(p=0.1, inplace=False)\n",
       "        )\n",
       "      )\n",
       "      (3): BertLayer(\n",
       "        (attention): BertAttention(\n",
       "          (self): BertSelfAttention(\n",
       "            (query): Linear(in_features=768, out_features=768, bias=True)\n",
       "            (key): Linear(in_features=768, out_features=768, bias=True)\n",
       "            (value): Linear(in_features=768, out_features=768, bias=True)\n",
       "            (dropout): Dropout(p=0.1, inplace=False)\n",
       "          )\n",
       "          (output): BertSelfOutput(\n",
       "            (dense): Linear(in_features=768, out_features=768, bias=True)\n",
       "            (LayerNorm): LayerNorm((768,), eps=1e-12, elementwise_affine=True)\n",
       "            (dropout): Dropout(p=0.1, inplace=False)\n",
       "          )\n",
       "        )\n",
       "        (intermediate): BertIntermediate(\n",
       "          (dense): Linear(in_features=768, out_features=3072, bias=True)\n",
       "          (intermediate_act_fn): GELUActivation()\n",
       "        )\n",
       "        (output): BertOutput(\n",
       "          (dense): Linear(in_features=3072, out_features=768, bias=True)\n",
       "          (LayerNorm): LayerNorm((768,), eps=1e-12, elementwise_affine=True)\n",
       "          (dropout): Dropout(p=0.1, inplace=False)\n",
       "        )\n",
       "      )\n",
       "      (4): BertLayer(\n",
       "        (attention): BertAttention(\n",
       "          (self): BertSelfAttention(\n",
       "            (query): Linear(in_features=768, out_features=768, bias=True)\n",
       "            (key): Linear(in_features=768, out_features=768, bias=True)\n",
       "            (value): Linear(in_features=768, out_features=768, bias=True)\n",
       "            (dropout): Dropout(p=0.1, inplace=False)\n",
       "          )\n",
       "          (output): BertSelfOutput(\n",
       "            (dense): Linear(in_features=768, out_features=768, bias=True)\n",
       "            (LayerNorm): LayerNorm((768,), eps=1e-12, elementwise_affine=True)\n",
       "            (dropout): Dropout(p=0.1, inplace=False)\n",
       "          )\n",
       "        )\n",
       "        (intermediate): BertIntermediate(\n",
       "          (dense): Linear(in_features=768, out_features=3072, bias=True)\n",
       "          (intermediate_act_fn): GELUActivation()\n",
       "        )\n",
       "        (output): BertOutput(\n",
       "          (dense): Linear(in_features=3072, out_features=768, bias=True)\n",
       "          (LayerNorm): LayerNorm((768,), eps=1e-12, elementwise_affine=True)\n",
       "          (dropout): Dropout(p=0.1, inplace=False)\n",
       "        )\n",
       "      )\n",
       "      (5): BertLayer(\n",
       "        (attention): BertAttention(\n",
       "          (self): BertSelfAttention(\n",
       "            (query): Linear(in_features=768, out_features=768, bias=True)\n",
       "            (key): Linear(in_features=768, out_features=768, bias=True)\n",
       "            (value): Linear(in_features=768, out_features=768, bias=True)\n",
       "            (dropout): Dropout(p=0.1, inplace=False)\n",
       "          )\n",
       "          (output): BertSelfOutput(\n",
       "            (dense): Linear(in_features=768, out_features=768, bias=True)\n",
       "            (LayerNorm): LayerNorm((768,), eps=1e-12, elementwise_affine=True)\n",
       "            (dropout): Dropout(p=0.1, inplace=False)\n",
       "          )\n",
       "        )\n",
       "        (intermediate): BertIntermediate(\n",
       "          (dense): Linear(in_features=768, out_features=3072, bias=True)\n",
       "          (intermediate_act_fn): GELUActivation()\n",
       "        )\n",
       "        (output): BertOutput(\n",
       "          (dense): Linear(in_features=3072, out_features=768, bias=True)\n",
       "          (LayerNorm): LayerNorm((768,), eps=1e-12, elementwise_affine=True)\n",
       "          (dropout): Dropout(p=0.1, inplace=False)\n",
       "        )\n",
       "      )\n",
       "      (6): BertLayer(\n",
       "        (attention): BertAttention(\n",
       "          (self): BertSelfAttention(\n",
       "            (query): Linear(in_features=768, out_features=768, bias=True)\n",
       "            (key): Linear(in_features=768, out_features=768, bias=True)\n",
       "            (value): Linear(in_features=768, out_features=768, bias=True)\n",
       "            (dropout): Dropout(p=0.1, inplace=False)\n",
       "          )\n",
       "          (output): BertSelfOutput(\n",
       "            (dense): Linear(in_features=768, out_features=768, bias=True)\n",
       "            (LayerNorm): LayerNorm((768,), eps=1e-12, elementwise_affine=True)\n",
       "            (dropout): Dropout(p=0.1, inplace=False)\n",
       "          )\n",
       "        )\n",
       "        (intermediate): BertIntermediate(\n",
       "          (dense): Linear(in_features=768, out_features=3072, bias=True)\n",
       "          (intermediate_act_fn): GELUActivation()\n",
       "        )\n",
       "        (output): BertOutput(\n",
       "          (dense): Linear(in_features=3072, out_features=768, bias=True)\n",
       "          (LayerNorm): LayerNorm((768,), eps=1e-12, elementwise_affine=True)\n",
       "          (dropout): Dropout(p=0.1, inplace=False)\n",
       "        )\n",
       "      )\n",
       "      (7): BertLayer(\n",
       "        (attention): BertAttention(\n",
       "          (self): BertSelfAttention(\n",
       "            (query): Linear(in_features=768, out_features=768, bias=True)\n",
       "            (key): Linear(in_features=768, out_features=768, bias=True)\n",
       "            (value): Linear(in_features=768, out_features=768, bias=True)\n",
       "            (dropout): Dropout(p=0.1, inplace=False)\n",
       "          )\n",
       "          (output): BertSelfOutput(\n",
       "            (dense): Linear(in_features=768, out_features=768, bias=True)\n",
       "            (LayerNorm): LayerNorm((768,), eps=1e-12, elementwise_affine=True)\n",
       "            (dropout): Dropout(p=0.1, inplace=False)\n",
       "          )\n",
       "        )\n",
       "        (intermediate): BertIntermediate(\n",
       "          (dense): Linear(in_features=768, out_features=3072, bias=True)\n",
       "          (intermediate_act_fn): GELUActivation()\n",
       "        )\n",
       "        (output): BertOutput(\n",
       "          (dense): Linear(in_features=3072, out_features=768, bias=True)\n",
       "          (LayerNorm): LayerNorm((768,), eps=1e-12, elementwise_affine=True)\n",
       "          (dropout): Dropout(p=0.1, inplace=False)\n",
       "        )\n",
       "      )\n",
       "      (8): BertLayer(\n",
       "        (attention): BertAttention(\n",
       "          (self): BertSelfAttention(\n",
       "            (query): Linear(in_features=768, out_features=768, bias=True)\n",
       "            (key): Linear(in_features=768, out_features=768, bias=True)\n",
       "            (value): Linear(in_features=768, out_features=768, bias=True)\n",
       "            (dropout): Dropout(p=0.1, inplace=False)\n",
       "          )\n",
       "          (output): BertSelfOutput(\n",
       "            (dense): Linear(in_features=768, out_features=768, bias=True)\n",
       "            (LayerNorm): LayerNorm((768,), eps=1e-12, elementwise_affine=True)\n",
       "            (dropout): Dropout(p=0.1, inplace=False)\n",
       "          )\n",
       "        )\n",
       "        (intermediate): BertIntermediate(\n",
       "          (dense): Linear(in_features=768, out_features=3072, bias=True)\n",
       "          (intermediate_act_fn): GELUActivation()\n",
       "        )\n",
       "        (output): BertOutput(\n",
       "          (dense): Linear(in_features=3072, out_features=768, bias=True)\n",
       "          (LayerNorm): LayerNorm((768,), eps=1e-12, elementwise_affine=True)\n",
       "          (dropout): Dropout(p=0.1, inplace=False)\n",
       "        )\n",
       "      )\n",
       "      (9): BertLayer(\n",
       "        (attention): BertAttention(\n",
       "          (self): BertSelfAttention(\n",
       "            (query): Linear(in_features=768, out_features=768, bias=True)\n",
       "            (key): Linear(in_features=768, out_features=768, bias=True)\n",
       "            (value): Linear(in_features=768, out_features=768, bias=True)\n",
       "            (dropout): Dropout(p=0.1, inplace=False)\n",
       "          )\n",
       "          (output): BertSelfOutput(\n",
       "            (dense): Linear(in_features=768, out_features=768, bias=True)\n",
       "            (LayerNorm): LayerNorm((768,), eps=1e-12, elementwise_affine=True)\n",
       "            (dropout): Dropout(p=0.1, inplace=False)\n",
       "          )\n",
       "        )\n",
       "        (intermediate): BertIntermediate(\n",
       "          (dense): Linear(in_features=768, out_features=3072, bias=True)\n",
       "          (intermediate_act_fn): GELUActivation()\n",
       "        )\n",
       "        (output): BertOutput(\n",
       "          (dense): Linear(in_features=3072, out_features=768, bias=True)\n",
       "          (LayerNorm): LayerNorm((768,), eps=1e-12, elementwise_affine=True)\n",
       "          (dropout): Dropout(p=0.1, inplace=False)\n",
       "        )\n",
       "      )\n",
       "      (10): BertLayer(\n",
       "        (attention): BertAttention(\n",
       "          (self): BertSelfAttention(\n",
       "            (query): Linear(in_features=768, out_features=768, bias=True)\n",
       "            (key): Linear(in_features=768, out_features=768, bias=True)\n",
       "            (value): Linear(in_features=768, out_features=768, bias=True)\n",
       "            (dropout): Dropout(p=0.1, inplace=False)\n",
       "          )\n",
       "          (output): BertSelfOutput(\n",
       "            (dense): Linear(in_features=768, out_features=768, bias=True)\n",
       "            (LayerNorm): LayerNorm((768,), eps=1e-12, elementwise_affine=True)\n",
       "            (dropout): Dropout(p=0.1, inplace=False)\n",
       "          )\n",
       "        )\n",
       "        (intermediate): BertIntermediate(\n",
       "          (dense): Linear(in_features=768, out_features=3072, bias=True)\n",
       "          (intermediate_act_fn): GELUActivation()\n",
       "        )\n",
       "        (output): BertOutput(\n",
       "          (dense): Linear(in_features=3072, out_features=768, bias=True)\n",
       "          (LayerNorm): LayerNorm((768,), eps=1e-12, elementwise_affine=True)\n",
       "          (dropout): Dropout(p=0.1, inplace=False)\n",
       "        )\n",
       "      )\n",
       "      (11): BertLayer(\n",
       "        (attention): BertAttention(\n",
       "          (self): BertSelfAttention(\n",
       "            (query): Linear(in_features=768, out_features=768, bias=True)\n",
       "            (key): Linear(in_features=768, out_features=768, bias=True)\n",
       "            (value): Linear(in_features=768, out_features=768, bias=True)\n",
       "            (dropout): Dropout(p=0.1, inplace=False)\n",
       "          )\n",
       "          (output): BertSelfOutput(\n",
       "            (dense): Linear(in_features=768, out_features=768, bias=True)\n",
       "            (LayerNorm): LayerNorm((768,), eps=1e-12, elementwise_affine=True)\n",
       "            (dropout): Dropout(p=0.1, inplace=False)\n",
       "          )\n",
       "        )\n",
       "        (intermediate): BertIntermediate(\n",
       "          (dense): Linear(in_features=768, out_features=3072, bias=True)\n",
       "          (intermediate_act_fn): GELUActivation()\n",
       "        )\n",
       "        (output): BertOutput(\n",
       "          (dense): Linear(in_features=3072, out_features=768, bias=True)\n",
       "          (LayerNorm): LayerNorm((768,), eps=1e-12, elementwise_affine=True)\n",
       "          (dropout): Dropout(p=0.1, inplace=False)\n",
       "        )\n",
       "      )\n",
       "    )\n",
       "  )\n",
       "  (pooler): BertPooler(\n",
       "    (dense): Linear(in_features=768, out_features=768, bias=True)\n",
       "    (activation): Tanh()\n",
       "  )\n",
       ")"
      ]
     },
     "execution_count": 10,
     "metadata": {},
     "output_type": "execute_result"
    }
   ],
   "source": [
    "sentence = \"Sphinx of black quartz, judge my vow.\"\n",
    "model.eval()"
   ]
  },
  {
   "cell_type": "code",
   "execution_count": 11,
   "metadata": {},
   "outputs": [],
   "source": [
    "# Add the special tokens.\n",
    "marked_text = \"[CLS] \" + sentence + \" [SEP]\"\n",
    "\n",
    "# Split the sentence into tokens.\n",
    "tokenized_text = tokenizer.tokenize(marked_text)\n",
    "\n",
    "# Map the token strings to their vocabulary indeces.\n",
    "indexed_tokens = tokenizer.convert_tokens_to_ids(tokenized_text)\n",
    "\n",
    "segments_ids = [1 for _ in range(len(tokenized_text))]\n",
    "\n",
    "tokens_tensor = torch.tensor([indexed_tokens])\n",
    "segments_tensors = torch.tensor([segments_ids])\n",
    "\n",
    "# Run the text through BERT, and collect all of the hidden states produced\n",
    "# from all 12 layers. \n",
    "with torch.no_grad():\n",
    "    outputs = model(tokens_tensor, segments_tensors)\n",
    "    # Evaluating the model will return a different number of objects based on \n",
    "    # how it's  configured in the `from_pretrained` call earlier. In this case, \n",
    "    # becase we set `output_hidden_states = True`, the third item will be the \n",
    "    # hidden states from all layers. See the documentation for more details:\n",
    "    # https://huggingface.co/transformers/model_doc/bert.html#bertmodel\n",
    "    hidden_states = outputs[2]\n",
    "\n",
    "\n",
    "# `hidden_states` has shape [13 x 1 x 22 x 768]\n",
    "# `token_vecs` is a tensor with shape [22 x 768]\n",
    "token_vecs = hidden_states[-2][0]\n",
    "\n",
    "# Calculate the average of all 22 token vectors.\n",
    "sentence_embedding = torch.mean(token_vecs, dim=0)"
   ]
  },
  {
   "cell_type": "code",
   "execution_count": 16,
   "metadata": {},
   "outputs": [
    {
     "data": {
      "text/plain": [
       "torch.Size([1, 11, 768])"
      ]
     },
     "execution_count": 16,
     "metadata": {},
     "output_type": "execute_result"
    }
   ],
   "source": [
    "hidden_states[0].shape"
   ]
  },
  {
   "cell_type": "code",
   "execution_count": 31,
   "metadata": {},
   "outputs": [
    {
     "data": {
      "application/vnd.plotly.v1+json": {
       "config": {
        "plotlyServerURL": "https://plot.ly"
       },
       "data": [
        {
         "hovertemplate": "<b>%{hovertext}</b><br><br>label=red<br>frame=2<br>x=%{x}<br>y=%{y}<br>z=%{z}<extra></extra>",
         "hovertext": [
          "red"
         ],
         "ids": [
          "red"
         ],
         "legendgroup": "red",
         "marker": {
          "color": "#636efa",
          "symbol": "circle"
         },
         "mode": "markers",
         "name": "red",
         "scene": "scene",
         "showlegend": true,
         "type": "scatter3d",
         "x": [
          0.342658578551128
         ],
         "y": [
          0.39826446221947037
         ],
         "z": [
          0.4837798479595406
         ]
        },
        {
         "hovertemplate": "<b>%{hovertext}</b><br><br>label=blue<br>frame=2<br>x=%{x}<br>y=%{y}<br>z=%{z}<extra></extra>",
         "hovertext": [
          "blue"
         ],
         "ids": [
          "blue"
         ],
         "legendgroup": "blue",
         "marker": {
          "color": "#EF553B",
          "symbol": "circle"
         },
         "mode": "markers",
         "name": "blue",
         "scene": "scene",
         "showlegend": true,
         "type": "scatter3d",
         "x": [
          0.342658578551128
         ],
         "y": [
          0.39826446221947037
         ],
         "z": [
          0.4837798479595406
         ]
        },
        {
         "hovertemplate": "<b>%{hovertext}</b><br><br>label=green<br>frame=2<br>x=%{x}<br>y=%{y}<br>z=%{z}<extra></extra>",
         "hovertext": [
          "green"
         ],
         "ids": [
          "green"
         ],
         "legendgroup": "green",
         "marker": {
          "color": "#00cc96",
          "symbol": "circle"
         },
         "mode": "markers",
         "name": "green",
         "scene": "scene",
         "showlegend": true,
         "type": "scatter3d",
         "x": [
          0.342658578551128
         ],
         "y": [
          0.39826446221947037
         ],
         "z": [
          0.4837798479595406
         ]
        },
        {
         "hovertemplate": "<b>%{hovertext}</b><br><br>label=anger<br>frame=2<br>x=%{x}<br>y=%{y}<br>z=%{z}<extra></extra>",
         "hovertext": [
          "anger"
         ],
         "ids": [
          "anger"
         ],
         "legendgroup": "anger",
         "marker": {
          "color": "#ab63fa",
          "symbol": "circle"
         },
         "mode": "markers",
         "name": "anger",
         "scene": "scene",
         "showlegend": true,
         "type": "scatter3d",
         "x": [
          0.342658578551128
         ],
         "y": [
          0.39826446221947037
         ],
         "z": [
          0.4837798479595406
         ]
        },
        {
         "hovertemplate": "<b>%{hovertext}</b><br><br>label=joy<br>frame=2<br>x=%{x}<br>y=%{y}<br>z=%{z}<extra></extra>",
         "hovertext": [
          "joy"
         ],
         "ids": [
          "joy"
         ],
         "legendgroup": "joy",
         "marker": {
          "color": "#FFA15A",
          "symbol": "circle"
         },
         "mode": "markers",
         "name": "joy",
         "scene": "scene",
         "showlegend": true,
         "type": "scatter3d",
         "x": [
          0.342658578551128
         ],
         "y": [
          0.39826446221947037
         ],
         "z": [
          0.4837798479595406
         ]
        },
        {
         "hovertemplate": "<b>%{hovertext}</b><br><br>label=grass<br>frame=2<br>x=%{x}<br>y=%{y}<br>z=%{z}<extra></extra>",
         "hovertext": [
          "grass"
         ],
         "ids": [
          "grass"
         ],
         "legendgroup": "grass",
         "marker": {
          "color": "#19d3f3",
          "symbol": "circle"
         },
         "mode": "markers",
         "name": "grass",
         "scene": "scene",
         "showlegend": true,
         "type": "scatter3d",
         "x": [
          0.342658578551128
         ],
         "y": [
          0.39826446221947037
         ],
         "z": [
          0.4837798479595406
         ]
        },
        {
         "hovertemplate": "<b>%{hovertext}</b><br><br>label=sunflower<br>frame=2<br>x=%{x}<br>y=%{y}<br>z=%{z}<extra></extra>",
         "hovertext": [
          "sunflower"
         ],
         "ids": [
          "sunflower"
         ],
         "legendgroup": "sunflower",
         "marker": {
          "color": "#FF6692",
          "symbol": "circle"
         },
         "mode": "markers",
         "name": "sunflower",
         "scene": "scene",
         "showlegend": true,
         "type": "scatter3d",
         "x": [
          0.342658578551128
         ],
         "y": [
          0.39826446221947037
         ],
         "z": [
          0.4837798479595406
         ]
        },
        {
         "hovertemplate": "<b>%{hovertext}</b><br><br>label=yellow<br>frame=2<br>x=%{x}<br>y=%{y}<br>z=%{z}<extra></extra>",
         "hovertext": [
          "yellow"
         ],
         "ids": [
          "yellow"
         ],
         "legendgroup": "yellow",
         "marker": {
          "color": "#B6E880",
          "symbol": "circle"
         },
         "mode": "markers",
         "name": "yellow",
         "scene": "scene",
         "showlegend": true,
         "type": "scatter3d",
         "x": [
          0.342658578551128
         ],
         "y": [
          0.39826446221947037
         ],
         "z": [
          0.4837798479595406
         ]
        }
       ],
       "frames": [
        {
         "data": [
          {
           "hovertemplate": "<b>%{hovertext}</b><br><br>label=red<br>frame=2<br>x=%{x}<br>y=%{y}<br>z=%{z}<extra></extra>",
           "hovertext": [
            "red"
           ],
           "ids": [
            "red"
           ],
           "legendgroup": "red",
           "marker": {
            "color": "#636efa",
            "symbol": "circle"
           },
           "mode": "markers",
           "name": "red",
           "scene": "scene",
           "showlegend": true,
           "type": "scatter3d",
           "x": [
            0.342658578551128
           ],
           "y": [
            0.39826446221947037
           ],
           "z": [
            0.4837798479595406
           ]
          },
          {
           "hovertemplate": "<b>%{hovertext}</b><br><br>label=blue<br>frame=2<br>x=%{x}<br>y=%{y}<br>z=%{z}<extra></extra>",
           "hovertext": [
            "blue"
           ],
           "ids": [
            "blue"
           ],
           "legendgroup": "blue",
           "marker": {
            "color": "#EF553B",
            "symbol": "circle"
           },
           "mode": "markers",
           "name": "blue",
           "scene": "scene",
           "showlegend": true,
           "type": "scatter3d",
           "x": [
            0.342658578551128
           ],
           "y": [
            0.39826446221947037
           ],
           "z": [
            0.4837798479595406
           ]
          },
          {
           "hovertemplate": "<b>%{hovertext}</b><br><br>label=green<br>frame=2<br>x=%{x}<br>y=%{y}<br>z=%{z}<extra></extra>",
           "hovertext": [
            "green"
           ],
           "ids": [
            "green"
           ],
           "legendgroup": "green",
           "marker": {
            "color": "#00cc96",
            "symbol": "circle"
           },
           "mode": "markers",
           "name": "green",
           "scene": "scene",
           "showlegend": true,
           "type": "scatter3d",
           "x": [
            0.342658578551128
           ],
           "y": [
            0.39826446221947037
           ],
           "z": [
            0.4837798479595406
           ]
          },
          {
           "hovertemplate": "<b>%{hovertext}</b><br><br>label=anger<br>frame=2<br>x=%{x}<br>y=%{y}<br>z=%{z}<extra></extra>",
           "hovertext": [
            "anger"
           ],
           "ids": [
            "anger"
           ],
           "legendgroup": "anger",
           "marker": {
            "color": "#ab63fa",
            "symbol": "circle"
           },
           "mode": "markers",
           "name": "anger",
           "scene": "scene",
           "showlegend": true,
           "type": "scatter3d",
           "x": [
            0.342658578551128
           ],
           "y": [
            0.39826446221947037
           ],
           "z": [
            0.4837798479595406
           ]
          },
          {
           "hovertemplate": "<b>%{hovertext}</b><br><br>label=joy<br>frame=2<br>x=%{x}<br>y=%{y}<br>z=%{z}<extra></extra>",
           "hovertext": [
            "joy"
           ],
           "ids": [
            "joy"
           ],
           "legendgroup": "joy",
           "marker": {
            "color": "#FFA15A",
            "symbol": "circle"
           },
           "mode": "markers",
           "name": "joy",
           "scene": "scene",
           "showlegend": true,
           "type": "scatter3d",
           "x": [
            0.342658578551128
           ],
           "y": [
            0.39826446221947037
           ],
           "z": [
            0.4837798479595406
           ]
          },
          {
           "hovertemplate": "<b>%{hovertext}</b><br><br>label=grass<br>frame=2<br>x=%{x}<br>y=%{y}<br>z=%{z}<extra></extra>",
           "hovertext": [
            "grass"
           ],
           "ids": [
            "grass"
           ],
           "legendgroup": "grass",
           "marker": {
            "color": "#19d3f3",
            "symbol": "circle"
           },
           "mode": "markers",
           "name": "grass",
           "scene": "scene",
           "showlegend": true,
           "type": "scatter3d",
           "x": [
            0.342658578551128
           ],
           "y": [
            0.39826446221947037
           ],
           "z": [
            0.4837798479595406
           ]
          },
          {
           "hovertemplate": "<b>%{hovertext}</b><br><br>label=sunflower<br>frame=2<br>x=%{x}<br>y=%{y}<br>z=%{z}<extra></extra>",
           "hovertext": [
            "sunflower"
           ],
           "ids": [
            "sunflower"
           ],
           "legendgroup": "sunflower",
           "marker": {
            "color": "#FF6692",
            "symbol": "circle"
           },
           "mode": "markers",
           "name": "sunflower",
           "scene": "scene",
           "showlegend": true,
           "type": "scatter3d",
           "x": [
            0.342658578551128
           ],
           "y": [
            0.39826446221947037
           ],
           "z": [
            0.4837798479595406
           ]
          },
          {
           "hovertemplate": "<b>%{hovertext}</b><br><br>label=yellow<br>frame=2<br>x=%{x}<br>y=%{y}<br>z=%{z}<extra></extra>",
           "hovertext": [
            "yellow"
           ],
           "ids": [
            "yellow"
           ],
           "legendgroup": "yellow",
           "marker": {
            "color": "#B6E880",
            "symbol": "circle"
           },
           "mode": "markers",
           "name": "yellow",
           "scene": "scene",
           "showlegend": true,
           "type": "scatter3d",
           "x": [
            0.342658578551128
           ],
           "y": [
            0.39826446221947037
           ],
           "z": [
            0.4837798479595406
           ]
          }
         ],
         "name": "2"
        },
        {
         "data": [
          {
           "hovertemplate": "<b>%{hovertext}</b><br><br>label=red<br>frame=3<br>x=%{x}<br>y=%{y}<br>z=%{z}<extra></extra>",
           "hovertext": [
            "red"
           ],
           "ids": [
            "red"
           ],
           "legendgroup": "red",
           "marker": {
            "color": "#636efa",
            "symbol": "circle"
           },
           "mode": "markers",
           "name": "red",
           "scene": "scene",
           "showlegend": true,
           "type": "scatter3d",
           "x": [
            0.19172405998970615
           ],
           "y": [
            0.7001943858071247
           ],
           "z": [
            0.48377984795954065
           ]
          },
          {
           "hovertemplate": "<b>%{hovertext}</b><br><br>label=blue<br>frame=3<br>x=%{x}<br>y=%{y}<br>z=%{z}<extra></extra>",
           "hovertext": [
            "blue"
           ],
           "ids": [
            "blue"
           ],
           "legendgroup": "blue",
           "marker": {
            "color": "#EF553B",
            "symbol": "circle"
           },
           "mode": "markers",
           "name": "blue",
           "scene": "scene",
           "showlegend": true,
           "type": "scatter3d",
           "x": [
            0.13073036117589917
           ],
           "y": [
            0.12837370472528226
           ],
           "z": [
            0.48377984795954065
           ]
          },
          {
           "hovertemplate": "<b>%{hovertext}</b><br><br>label=green<br>frame=3<br>x=%{x}<br>y=%{y}<br>z=%{z}<extra></extra>",
           "hovertext": [
            "green"
           ],
           "ids": [
            "green"
           ],
           "legendgroup": "green",
           "marker": {
            "color": "#00cc96",
            "symbol": "circle"
           },
           "mode": "markers",
           "name": "green",
           "scene": "scene",
           "showlegend": true,
           "type": "scatter3d",
           "x": [
            0.7055213144877786
           ],
           "y": [
            0.3662252961260041
           ],
           "z": [
            0.48377984795954065
           ]
          }
         ],
         "name": "3"
        },
        {
         "data": [
          {
           "hovertemplate": "<b>%{hovertext}</b><br><br>label=red<br>frame=4<br>x=%{x}<br>y=%{y}<br>z=%{z}<extra></extra>",
           "hovertext": [
            "red"
           ],
           "ids": [
            "red"
           ],
           "legendgroup": "red",
           "marker": {
            "color": "#636efa",
            "symbol": "circle"
           },
           "mode": "markers",
           "name": "red",
           "scene": "scene",
           "showlegend": true,
           "type": "scatter3d",
           "x": [
            0.14802352725871384
           ],
           "y": [
            0.25038245245808083
           ],
           "z": [
            0.8687236114904789
           ]
          },
          {
           "hovertemplate": "<b>%{hovertext}</b><br><br>label=blue<br>frame=4<br>x=%{x}<br>y=%{y}<br>z=%{z}<extra></extra>",
           "hovertext": [
            "blue"
           ],
           "ids": [
            "blue"
           ],
           "legendgroup": "blue",
           "marker": {
            "color": "#EF553B",
            "symbol": "circle"
           },
           "mode": "markers",
           "name": "blue",
           "scene": "scene",
           "showlegend": true,
           "type": "scatter3d",
           "x": [
            0.12062803362092683
           ],
           "y": [
            0.18239125276008497
           ],
           "z": [
            0.1526459936659735
           ]
          },
          {
           "hovertemplate": "<b>%{hovertext}</b><br><br>label=green<br>frame=4<br>x=%{x}<br>y=%{y}<br>z=%{z}<extra></extra>",
           "hovertext": [
            "green"
           ],
           "ids": [
            "green"
           ],
           "legendgroup": "green",
           "marker": {
            "color": "#00cc96",
            "symbol": "circle"
           },
           "mode": "markers",
           "name": "green",
           "scene": "scene",
           "showlegend": true,
           "type": "scatter3d",
           "x": [
            0.10198275332487135
           ],
           "y": [
            0.749955749796174
           ],
           "z": [
            0.44283052164294695
           ]
          },
          {
           "hovertemplate": "<b>%{hovertext}</b><br><br>label=anger<br>frame=4<br>x=%{x}<br>y=%{y}<br>z=%{z}<extra></extra>",
           "hovertext": [
            "anger"
           ],
           "ids": [
            "anger"
           ],
           "legendgroup": "anger",
           "marker": {
            "color": "#ab63fa",
            "symbol": "circle"
           },
           "mode": "markers",
           "name": "anger",
           "scene": "scene",
           "showlegend": true,
           "type": "scatter3d",
           "x": [
            1
           ],
           "y": [
            0.4103283938635416
           ],
           "z": [
            0.4709192650387633
           ]
          }
         ],
         "name": "4"
        },
        {
         "data": [
          {
           "hovertemplate": "<b>%{hovertext}</b><br><br>label=red<br>frame=5<br>x=%{x}<br>y=%{y}<br>z=%{z}<extra></extra>",
           "hovertext": [
            "red"
           ],
           "ids": [
            "red"
           ],
           "legendgroup": "red",
           "marker": {
            "color": "#636efa",
            "symbol": "circle"
           },
           "mode": "markers",
           "name": "red",
           "scene": "scene",
           "showlegend": true,
           "type": "scatter3d",
           "x": [
            0.052142186426400075
           ],
           "y": [
            0.40905943954851975
           ],
           "z": [
            0.2824627477882239
           ]
          },
          {
           "hovertemplate": "<b>%{hovertext}</b><br><br>label=blue<br>frame=5<br>x=%{x}<br>y=%{y}<br>z=%{z}<extra></extra>",
           "hovertext": [
            "blue"
           ],
           "ids": [
            "blue"
           ],
           "legendgroup": "blue",
           "marker": {
            "color": "#EF553B",
            "symbol": "circle"
           },
           "mode": "markers",
           "name": "blue",
           "scene": "scene",
           "showlegend": true,
           "type": "scatter3d",
           "x": [
            0.04342016940934851
           ],
           "y": [
            0.35152740750455125
           ],
           "z": [
            0.22239692213724402
           ]
          },
          {
           "hovertemplate": "<b>%{hovertext}</b><br><br>label=green<br>frame=5<br>x=%{x}<br>y=%{y}<br>z=%{z}<extra></extra>",
           "hovertext": [
            "green"
           ],
           "ids": [
            "green"
           ],
           "legendgroup": "green",
           "marker": {
            "color": "#00cc96",
            "symbol": "circle"
           },
           "mode": "markers",
           "name": "green",
           "scene": "scene",
           "showlegend": true,
           "type": "scatter3d",
           "x": [
            0
           ],
           "y": [
            0.42837294836323997
           ],
           "z": [
            0.9197615438378657
           ]
          },
          {
           "hovertemplate": "<b>%{hovertext}</b><br><br>label=anger<br>frame=5<br>x=%{x}<br>y=%{y}<br>z=%{z}<extra></extra>",
           "hovertext": [
            "anger"
           ],
           "ids": [
            "anger"
           ],
           "legendgroup": "anger",
           "marker": {
            "color": "#ab63fa",
            "symbol": "circle"
           },
           "mode": "markers",
           "name": "anger",
           "scene": "scene",
           "showlegend": true,
           "type": "scatter3d",
           "x": [
            0.8048120728413659
           ],
           "y": [
            0.8023625156810409
           ],
           "z": [
            0.4681649085735815
           ]
          },
          {
           "hovertemplate": "<b>%{hovertext}</b><br><br>label=joy<br>frame=5<br>x=%{x}<br>y=%{y}<br>z=%{z}<extra></extra>",
           "hovertext": [
            "joy"
           ],
           "ids": [
            "joy"
           ],
           "legendgroup": "joy",
           "marker": {
            "color": "#FFA15A",
            "symbol": "circle"
           },
           "mode": "markers",
           "name": "joy",
           "scene": "scene",
           "showlegend": true,
           "type": "scatter3d",
           "x": [
            0.8129184640785257
           ],
           "y": [
            0
           ],
           "z": [
            0.5261131174607881
           ]
          }
         ],
         "name": "5"
        },
        {
         "data": [
          {
           "hovertemplate": "<b>%{hovertext}</b><br><br>label=red<br>frame=6<br>x=%{x}<br>y=%{y}<br>z=%{z}<extra></extra>",
           "hovertext": [
            "red"
           ],
           "ids": [
            "red"
           ],
           "legendgroup": "red",
           "marker": {
            "color": "#636efa",
            "symbol": "circle"
           },
           "mode": "markers",
           "name": "red",
           "scene": "scene",
           "showlegend": true,
           "type": "scatter3d",
           "x": [
            0.06380067419461095
           ],
           "y": [
            0.2206373634848181
           ],
           "z": [
            0.5254215039914117
           ]
          },
          {
           "hovertemplate": "<b>%{hovertext}</b><br><br>label=blue<br>frame=6<br>x=%{x}<br>y=%{y}<br>z=%{z}<extra></extra>",
           "hovertext": [
            "blue"
           ],
           "ids": [
            "blue"
           ],
           "legendgroup": "blue",
           "marker": {
            "color": "#EF553B",
            "symbol": "circle"
           },
           "mode": "markers",
           "name": "blue",
           "scene": "scene",
           "showlegend": true,
           "type": "scatter3d",
           "x": [
            0.05646000112480576
           ],
           "y": [
            0.18525111504241393
           ],
           "z": [
            0.4606732900306567
           ]
          },
          {
           "hovertemplate": "<b>%{hovertext}</b><br><br>label=green<br>frame=6<br>x=%{x}<br>y=%{y}<br>z=%{z}<extra></extra>",
           "hovertext": [
            "green"
           ],
           "ids": [
            "green"
           ],
           "legendgroup": "green",
           "marker": {
            "color": "#00cc96",
            "symbol": "circle"
           },
           "mode": "markers",
           "name": "green",
           "scene": "scene",
           "showlegend": true,
           "type": "scatter3d",
           "x": [
            0.005205420263580427
           ],
           "y": [
            0.3750398625162233
           ],
           "z": [
            0.5092196215908592
           ]
          },
          {
           "hovertemplate": "<b>%{hovertext}</b><br><br>label=anger<br>frame=6<br>x=%{x}<br>y=%{y}<br>z=%{z}<extra></extra>",
           "hovertext": [
            "anger"
           ],
           "ids": [
            "anger"
           ],
           "legendgroup": "anger",
           "marker": {
            "color": "#ab63fa",
            "symbol": "circle"
           },
           "mode": "markers",
           "name": "anger",
           "scene": "scene",
           "showlegend": true,
           "type": "scatter3d",
           "x": [
            0.8121757184358765
           ],
           "y": [
            0.35642374085769674
           ],
           "z": [
            1
           ]
          },
          {
           "hovertemplate": "<b>%{hovertext}</b><br><br>label=joy<br>frame=6<br>x=%{x}<br>y=%{y}<br>z=%{z}<extra></extra>",
           "hovertext": [
            "joy"
           ],
           "ids": [
            "joy"
           ],
           "legendgroup": "joy",
           "marker": {
            "color": "#FFA15A",
            "symbol": "circle"
           },
           "mode": "markers",
           "name": "joy",
           "scene": "scene",
           "showlegend": true,
           "type": "scatter3d",
           "x": [
            0.8230714660847094
           ],
           "y": [
            0.25223469141567006
           ],
           "z": [
            0
           ]
          },
          {
           "hovertemplate": "<b>%{hovertext}</b><br><br>label=grass<br>frame=6<br>x=%{x}<br>y=%{y}<br>z=%{z}<extra></extra>",
           "hovertext": [
            "grass"
           ],
           "ids": [
            "grass"
           ],
           "legendgroup": "grass",
           "marker": {
            "color": "#19d3f3",
            "symbol": "circle"
           },
           "mode": "markers",
           "name": "grass",
           "scene": "scene",
           "showlegend": true,
           "type": "scatter3d",
           "x": [
            0.2952381912031853
           ],
           "y": [
            1
           ],
           "z": [
            0.40736467214431626
           ]
          }
         ],
         "name": "6"
        },
        {
         "data": [
          {
           "hovertemplate": "<b>%{hovertext}</b><br><br>label=red<br>frame=7<br>x=%{x}<br>y=%{y}<br>z=%{z}<extra></extra>",
           "hovertext": [
            "red"
           ],
           "ids": [
            "red"
           ],
           "legendgroup": "red",
           "marker": {
            "color": "#636efa",
            "symbol": "circle"
           },
           "mode": "markers",
           "name": "red",
           "scene": "scene",
           "showlegend": true,
           "type": "scatter3d",
           "x": [
            0.11564331523830787
           ],
           "y": [
            0.12649064394981702
           ],
           "z": [
            0.4553459893769424
           ]
          },
          {
           "hovertemplate": "<b>%{hovertext}</b><br><br>label=blue<br>frame=7<br>x=%{x}<br>y=%{y}<br>z=%{z}<extra></extra>",
           "hovertext": [
            "blue"
           ],
           "ids": [
            "blue"
           ],
           "legendgroup": "blue",
           "marker": {
            "color": "#EF553B",
            "symbol": "circle"
           },
           "mode": "markers",
           "name": "blue",
           "scene": "scene",
           "showlegend": true,
           "type": "scatter3d",
           "x": [
            0.10953261124466739
           ],
           "y": [
            0.11099478194054697
           ],
           "z": [
            0.38408343666393957
           ]
          },
          {
           "hovertemplate": "<b>%{hovertext}</b><br><br>label=green<br>frame=7<br>x=%{x}<br>y=%{y}<br>z=%{z}<extra></extra>",
           "hovertext": [
            "green"
           ],
           "ids": [
            "green"
           ],
           "legendgroup": "green",
           "marker": {
            "color": "#00cc96",
            "symbol": "circle"
           },
           "mode": "markers",
           "name": "green",
           "scene": "scene",
           "showlegend": true,
           "type": "scatter3d",
           "x": [
            0.042563957938466644
           ],
           "y": [
            0.22449353974832262
           ],
           "z": [
            0.590583313750296
           ]
          },
          {
           "hovertemplate": "<b>%{hovertext}</b><br><br>label=anger<br>frame=7<br>x=%{x}<br>y=%{y}<br>z=%{z}<extra></extra>",
           "hovertext": [
            "anger"
           ],
           "ids": [
            "anger"
           ],
           "legendgroup": "anger",
           "marker": {
            "color": "#ab63fa",
            "symbol": "circle"
           },
           "mode": "markers",
           "name": "anger",
           "scene": "scene",
           "showlegend": true,
           "type": "scatter3d",
           "x": [
            0.8393560849495767
           ],
           "y": [
            0.34339787806754835
           ],
           "z": [
            0.7058601298646983
           ]
          },
          {
           "hovertemplate": "<b>%{hovertext}</b><br><br>label=joy<br>frame=7<br>x=%{x}<br>y=%{y}<br>z=%{z}<extra></extra>",
           "hovertext": [
            "joy"
           ],
           "ids": [
            "joy"
           ],
           "legendgroup": "joy",
           "marker": {
            "color": "#FFA15A",
            "symbol": "circle"
           },
           "mode": "markers",
           "name": "joy",
           "scene": "scene",
           "showlegend": true,
           "type": "scatter3d",
           "x": [
            0.8520928366653602
           ],
           "y": [
            0.31367045606285326
           ],
           "z": [
            0.23111787097110828
           ]
          },
          {
           "hovertemplate": "<b>%{hovertext}</b><br><br>label=grass<br>frame=7<br>x=%{x}<br>y=%{y}<br>z=%{z}<extra></extra>",
           "hovertext": [
            "grass"
           ],
           "ids": [
            "grass"
           ],
           "legendgroup": "grass",
           "marker": {
            "color": "#19d3f3",
            "symbol": "circle"
           },
           "mode": "markers",
           "name": "grass",
           "scene": "scene",
           "showlegend": true,
           "type": "scatter3d",
           "x": [
            0.2493966333623396
           ],
           "y": [
            0.7801182272879147
           ],
           "z": [
            0.9669257253423756
           ]
          },
          {
           "hovertemplate": "<b>%{hovertext}</b><br><br>label=sunflower<br>frame=7<br>x=%{x}<br>y=%{y}<br>z=%{z}<extra></extra>",
           "hovertext": [
            "sunflower"
           ],
           "ids": [
            "sunflower"
           ],
           "legendgroup": "sunflower",
           "marker": {
            "color": "#FF6692",
            "symbol": "circle"
           },
           "mode": "markers",
           "name": "sunflower",
           "scene": "scene",
           "showlegend": true,
           "type": "scatter3d",
           "x": [
            0.19002461045917807
           ],
           "y": [
            0.8886857084792897
           ],
           "z": [
            0.05254246974742423
           ]
          }
         ],
         "name": "7"
        }
       ],
       "layout": {
        "legend": {
         "title": {
          "text": "label"
         },
         "tracegroupgap": 0
        },
        "margin": {
         "t": 60
        },
        "scene": {
         "domain": {
          "x": [
           0,
           1
          ],
          "y": [
           0,
           1
          ]
         },
         "xaxis": {
          "range": [
           0,
           1
          ],
          "title": {
           "text": "x"
          }
         },
         "yaxis": {
          "range": [
           0,
           1
          ],
          "title": {
           "text": "y"
          }
         },
         "zaxis": {
          "title": {
           "text": "z"
          }
         }
        },
        "sliders": [
         {
          "active": 0,
          "currentvalue": {
           "prefix": "frame="
          },
          "len": 0.9,
          "pad": {
           "b": 10,
           "t": 60
          },
          "steps": [
           {
            "args": [
             [
              "2"
             ],
             {
              "frame": {
               "duration": 0,
               "redraw": true
              },
              "fromcurrent": true,
              "mode": "immediate",
              "transition": {
               "duration": 0,
               "easing": "linear"
              }
             }
            ],
            "label": "2",
            "method": "animate"
           },
           {
            "args": [
             [
              "3"
             ],
             {
              "frame": {
               "duration": 0,
               "redraw": true
              },
              "fromcurrent": true,
              "mode": "immediate",
              "transition": {
               "duration": 0,
               "easing": "linear"
              }
             }
            ],
            "label": "3",
            "method": "animate"
           },
           {
            "args": [
             [
              "4"
             ],
             {
              "frame": {
               "duration": 0,
               "redraw": true
              },
              "fromcurrent": true,
              "mode": "immediate",
              "transition": {
               "duration": 0,
               "easing": "linear"
              }
             }
            ],
            "label": "4",
            "method": "animate"
           },
           {
            "args": [
             [
              "5"
             ],
             {
              "frame": {
               "duration": 0,
               "redraw": true
              },
              "fromcurrent": true,
              "mode": "immediate",
              "transition": {
               "duration": 0,
               "easing": "linear"
              }
             }
            ],
            "label": "5",
            "method": "animate"
           },
           {
            "args": [
             [
              "6"
             ],
             {
              "frame": {
               "duration": 0,
               "redraw": true
              },
              "fromcurrent": true,
              "mode": "immediate",
              "transition": {
               "duration": 0,
               "easing": "linear"
              }
             }
            ],
            "label": "6",
            "method": "animate"
           },
           {
            "args": [
             [
              "7"
             ],
             {
              "frame": {
               "duration": 0,
               "redraw": true
              },
              "fromcurrent": true,
              "mode": "immediate",
              "transition": {
               "duration": 0,
               "easing": "linear"
              }
             }
            ],
            "label": "7",
            "method": "animate"
           }
          ],
          "x": 0.1,
          "xanchor": "left",
          "y": 0,
          "yanchor": "top"
         }
        ],
        "template": {
         "data": {
          "bar": [
           {
            "error_x": {
             "color": "#2a3f5f"
            },
            "error_y": {
             "color": "#2a3f5f"
            },
            "marker": {
             "line": {
              "color": "#E5ECF6",
              "width": 0.5
             },
             "pattern": {
              "fillmode": "overlay",
              "size": 10,
              "solidity": 0.2
             }
            },
            "type": "bar"
           }
          ],
          "barpolar": [
           {
            "marker": {
             "line": {
              "color": "#E5ECF6",
              "width": 0.5
             },
             "pattern": {
              "fillmode": "overlay",
              "size": 10,
              "solidity": 0.2
             }
            },
            "type": "barpolar"
           }
          ],
          "carpet": [
           {
            "aaxis": {
             "endlinecolor": "#2a3f5f",
             "gridcolor": "white",
             "linecolor": "white",
             "minorgridcolor": "white",
             "startlinecolor": "#2a3f5f"
            },
            "baxis": {
             "endlinecolor": "#2a3f5f",
             "gridcolor": "white",
             "linecolor": "white",
             "minorgridcolor": "white",
             "startlinecolor": "#2a3f5f"
            },
            "type": "carpet"
           }
          ],
          "choropleth": [
           {
            "colorbar": {
             "outlinewidth": 0,
             "ticks": ""
            },
            "type": "choropleth"
           }
          ],
          "contour": [
           {
            "colorbar": {
             "outlinewidth": 0,
             "ticks": ""
            },
            "colorscale": [
             [
              0,
              "#0d0887"
             ],
             [
              0.1111111111111111,
              "#46039f"
             ],
             [
              0.2222222222222222,
              "#7201a8"
             ],
             [
              0.3333333333333333,
              "#9c179e"
             ],
             [
              0.4444444444444444,
              "#bd3786"
             ],
             [
              0.5555555555555556,
              "#d8576b"
             ],
             [
              0.6666666666666666,
              "#ed7953"
             ],
             [
              0.7777777777777778,
              "#fb9f3a"
             ],
             [
              0.8888888888888888,
              "#fdca26"
             ],
             [
              1,
              "#f0f921"
             ]
            ],
            "type": "contour"
           }
          ],
          "contourcarpet": [
           {
            "colorbar": {
             "outlinewidth": 0,
             "ticks": ""
            },
            "type": "contourcarpet"
           }
          ],
          "heatmap": [
           {
            "colorbar": {
             "outlinewidth": 0,
             "ticks": ""
            },
            "colorscale": [
             [
              0,
              "#0d0887"
             ],
             [
              0.1111111111111111,
              "#46039f"
             ],
             [
              0.2222222222222222,
              "#7201a8"
             ],
             [
              0.3333333333333333,
              "#9c179e"
             ],
             [
              0.4444444444444444,
              "#bd3786"
             ],
             [
              0.5555555555555556,
              "#d8576b"
             ],
             [
              0.6666666666666666,
              "#ed7953"
             ],
             [
              0.7777777777777778,
              "#fb9f3a"
             ],
             [
              0.8888888888888888,
              "#fdca26"
             ],
             [
              1,
              "#f0f921"
             ]
            ],
            "type": "heatmap"
           }
          ],
          "heatmapgl": [
           {
            "colorbar": {
             "outlinewidth": 0,
             "ticks": ""
            },
            "colorscale": [
             [
              0,
              "#0d0887"
             ],
             [
              0.1111111111111111,
              "#46039f"
             ],
             [
              0.2222222222222222,
              "#7201a8"
             ],
             [
              0.3333333333333333,
              "#9c179e"
             ],
             [
              0.4444444444444444,
              "#bd3786"
             ],
             [
              0.5555555555555556,
              "#d8576b"
             ],
             [
              0.6666666666666666,
              "#ed7953"
             ],
             [
              0.7777777777777778,
              "#fb9f3a"
             ],
             [
              0.8888888888888888,
              "#fdca26"
             ],
             [
              1,
              "#f0f921"
             ]
            ],
            "type": "heatmapgl"
           }
          ],
          "histogram": [
           {
            "marker": {
             "pattern": {
              "fillmode": "overlay",
              "size": 10,
              "solidity": 0.2
             }
            },
            "type": "histogram"
           }
          ],
          "histogram2d": [
           {
            "colorbar": {
             "outlinewidth": 0,
             "ticks": ""
            },
            "colorscale": [
             [
              0,
              "#0d0887"
             ],
             [
              0.1111111111111111,
              "#46039f"
             ],
             [
              0.2222222222222222,
              "#7201a8"
             ],
             [
              0.3333333333333333,
              "#9c179e"
             ],
             [
              0.4444444444444444,
              "#bd3786"
             ],
             [
              0.5555555555555556,
              "#d8576b"
             ],
             [
              0.6666666666666666,
              "#ed7953"
             ],
             [
              0.7777777777777778,
              "#fb9f3a"
             ],
             [
              0.8888888888888888,
              "#fdca26"
             ],
             [
              1,
              "#f0f921"
             ]
            ],
            "type": "histogram2d"
           }
          ],
          "histogram2dcontour": [
           {
            "colorbar": {
             "outlinewidth": 0,
             "ticks": ""
            },
            "colorscale": [
             [
              0,
              "#0d0887"
             ],
             [
              0.1111111111111111,
              "#46039f"
             ],
             [
              0.2222222222222222,
              "#7201a8"
             ],
             [
              0.3333333333333333,
              "#9c179e"
             ],
             [
              0.4444444444444444,
              "#bd3786"
             ],
             [
              0.5555555555555556,
              "#d8576b"
             ],
             [
              0.6666666666666666,
              "#ed7953"
             ],
             [
              0.7777777777777778,
              "#fb9f3a"
             ],
             [
              0.8888888888888888,
              "#fdca26"
             ],
             [
              1,
              "#f0f921"
             ]
            ],
            "type": "histogram2dcontour"
           }
          ],
          "mesh3d": [
           {
            "colorbar": {
             "outlinewidth": 0,
             "ticks": ""
            },
            "type": "mesh3d"
           }
          ],
          "parcoords": [
           {
            "line": {
             "colorbar": {
              "outlinewidth": 0,
              "ticks": ""
             }
            },
            "type": "parcoords"
           }
          ],
          "pie": [
           {
            "automargin": true,
            "type": "pie"
           }
          ],
          "scatter": [
           {
            "fillpattern": {
             "fillmode": "overlay",
             "size": 10,
             "solidity": 0.2
            },
            "type": "scatter"
           }
          ],
          "scatter3d": [
           {
            "line": {
             "colorbar": {
              "outlinewidth": 0,
              "ticks": ""
             }
            },
            "marker": {
             "colorbar": {
              "outlinewidth": 0,
              "ticks": ""
             }
            },
            "type": "scatter3d"
           }
          ],
          "scattercarpet": [
           {
            "marker": {
             "colorbar": {
              "outlinewidth": 0,
              "ticks": ""
             }
            },
            "type": "scattercarpet"
           }
          ],
          "scattergeo": [
           {
            "marker": {
             "colorbar": {
              "outlinewidth": 0,
              "ticks": ""
             }
            },
            "type": "scattergeo"
           }
          ],
          "scattergl": [
           {
            "marker": {
             "colorbar": {
              "outlinewidth": 0,
              "ticks": ""
             }
            },
            "type": "scattergl"
           }
          ],
          "scattermapbox": [
           {
            "marker": {
             "colorbar": {
              "outlinewidth": 0,
              "ticks": ""
             }
            },
            "type": "scattermapbox"
           }
          ],
          "scatterpolar": [
           {
            "marker": {
             "colorbar": {
              "outlinewidth": 0,
              "ticks": ""
             }
            },
            "type": "scatterpolar"
           }
          ],
          "scatterpolargl": [
           {
            "marker": {
             "colorbar": {
              "outlinewidth": 0,
              "ticks": ""
             }
            },
            "type": "scatterpolargl"
           }
          ],
          "scatterternary": [
           {
            "marker": {
             "colorbar": {
              "outlinewidth": 0,
              "ticks": ""
             }
            },
            "type": "scatterternary"
           }
          ],
          "surface": [
           {
            "colorbar": {
             "outlinewidth": 0,
             "ticks": ""
            },
            "colorscale": [
             [
              0,
              "#0d0887"
             ],
             [
              0.1111111111111111,
              "#46039f"
             ],
             [
              0.2222222222222222,
              "#7201a8"
             ],
             [
              0.3333333333333333,
              "#9c179e"
             ],
             [
              0.4444444444444444,
              "#bd3786"
             ],
             [
              0.5555555555555556,
              "#d8576b"
             ],
             [
              0.6666666666666666,
              "#ed7953"
             ],
             [
              0.7777777777777778,
              "#fb9f3a"
             ],
             [
              0.8888888888888888,
              "#fdca26"
             ],
             [
              1,
              "#f0f921"
             ]
            ],
            "type": "surface"
           }
          ],
          "table": [
           {
            "cells": {
             "fill": {
              "color": "#EBF0F8"
             },
             "line": {
              "color": "white"
             }
            },
            "header": {
             "fill": {
              "color": "#C8D4E3"
             },
             "line": {
              "color": "white"
             }
            },
            "type": "table"
           }
          ]
         },
         "layout": {
          "annotationdefaults": {
           "arrowcolor": "#2a3f5f",
           "arrowhead": 0,
           "arrowwidth": 1
          },
          "autotypenumbers": "strict",
          "coloraxis": {
           "colorbar": {
            "outlinewidth": 0,
            "ticks": ""
           }
          },
          "colorscale": {
           "diverging": [
            [
             0,
             "#8e0152"
            ],
            [
             0.1,
             "#c51b7d"
            ],
            [
             0.2,
             "#de77ae"
            ],
            [
             0.3,
             "#f1b6da"
            ],
            [
             0.4,
             "#fde0ef"
            ],
            [
             0.5,
             "#f7f7f7"
            ],
            [
             0.6,
             "#e6f5d0"
            ],
            [
             0.7,
             "#b8e186"
            ],
            [
             0.8,
             "#7fbc41"
            ],
            [
             0.9,
             "#4d9221"
            ],
            [
             1,
             "#276419"
            ]
           ],
           "sequential": [
            [
             0,
             "#0d0887"
            ],
            [
             0.1111111111111111,
             "#46039f"
            ],
            [
             0.2222222222222222,
             "#7201a8"
            ],
            [
             0.3333333333333333,
             "#9c179e"
            ],
            [
             0.4444444444444444,
             "#bd3786"
            ],
            [
             0.5555555555555556,
             "#d8576b"
            ],
            [
             0.6666666666666666,
             "#ed7953"
            ],
            [
             0.7777777777777778,
             "#fb9f3a"
            ],
            [
             0.8888888888888888,
             "#fdca26"
            ],
            [
             1,
             "#f0f921"
            ]
           ],
           "sequentialminus": [
            [
             0,
             "#0d0887"
            ],
            [
             0.1111111111111111,
             "#46039f"
            ],
            [
             0.2222222222222222,
             "#7201a8"
            ],
            [
             0.3333333333333333,
             "#9c179e"
            ],
            [
             0.4444444444444444,
             "#bd3786"
            ],
            [
             0.5555555555555556,
             "#d8576b"
            ],
            [
             0.6666666666666666,
             "#ed7953"
            ],
            [
             0.7777777777777778,
             "#fb9f3a"
            ],
            [
             0.8888888888888888,
             "#fdca26"
            ],
            [
             1,
             "#f0f921"
            ]
           ]
          },
          "colorway": [
           "#636efa",
           "#EF553B",
           "#00cc96",
           "#ab63fa",
           "#FFA15A",
           "#19d3f3",
           "#FF6692",
           "#B6E880",
           "#FF97FF",
           "#FECB52"
          ],
          "font": {
           "color": "#2a3f5f"
          },
          "geo": {
           "bgcolor": "white",
           "lakecolor": "white",
           "landcolor": "#E5ECF6",
           "showlakes": true,
           "showland": true,
           "subunitcolor": "white"
          },
          "hoverlabel": {
           "align": "left"
          },
          "hovermode": "closest",
          "mapbox": {
           "style": "light"
          },
          "paper_bgcolor": "white",
          "plot_bgcolor": "#E5ECF6",
          "polar": {
           "angularaxis": {
            "gridcolor": "white",
            "linecolor": "white",
            "ticks": ""
           },
           "bgcolor": "#E5ECF6",
           "radialaxis": {
            "gridcolor": "white",
            "linecolor": "white",
            "ticks": ""
           }
          },
          "scene": {
           "xaxis": {
            "backgroundcolor": "#E5ECF6",
            "gridcolor": "white",
            "gridwidth": 2,
            "linecolor": "white",
            "showbackground": true,
            "ticks": "",
            "zerolinecolor": "white"
           },
           "yaxis": {
            "backgroundcolor": "#E5ECF6",
            "gridcolor": "white",
            "gridwidth": 2,
            "linecolor": "white",
            "showbackground": true,
            "ticks": "",
            "zerolinecolor": "white"
           },
           "zaxis": {
            "backgroundcolor": "#E5ECF6",
            "gridcolor": "white",
            "gridwidth": 2,
            "linecolor": "white",
            "showbackground": true,
            "ticks": "",
            "zerolinecolor": "white"
           }
          },
          "shapedefaults": {
           "line": {
            "color": "#2a3f5f"
           }
          },
          "ternary": {
           "aaxis": {
            "gridcolor": "white",
            "linecolor": "white",
            "ticks": ""
           },
           "baxis": {
            "gridcolor": "white",
            "linecolor": "white",
            "ticks": ""
           },
           "bgcolor": "#E5ECF6",
           "caxis": {
            "gridcolor": "white",
            "linecolor": "white",
            "ticks": ""
           }
          },
          "title": {
           "x": 0.05
          },
          "xaxis": {
           "automargin": true,
           "gridcolor": "white",
           "linecolor": "white",
           "ticks": "",
           "title": {
            "standoff": 15
           },
           "zerolinecolor": "white",
           "zerolinewidth": 2
          },
          "yaxis": {
           "automargin": true,
           "gridcolor": "white",
           "linecolor": "white",
           "ticks": "",
           "title": {
            "standoff": 15
           },
           "zerolinecolor": "white",
           "zerolinewidth": 2
          }
         }
        },
        "updatemenus": [
         {
          "buttons": [
           {
            "args": [
             null,
             {
              "frame": {
               "duration": 500,
               "redraw": true
              },
              "fromcurrent": true,
              "mode": "immediate",
              "transition": {
               "duration": 500,
               "easing": "linear"
              }
             }
            ],
            "label": "&#9654;",
            "method": "animate"
           },
           {
            "args": [
             [
              null
             ],
             {
              "frame": {
               "duration": 0,
               "redraw": true
              },
              "fromcurrent": true,
              "mode": "immediate",
              "transition": {
               "duration": 0,
               "easing": "linear"
              }
             }
            ],
            "label": "&#9724;",
            "method": "animate"
           }
          ],
          "direction": "left",
          "pad": {
           "r": 10,
           "t": 70
          },
          "showactive": false,
          "type": "buttons",
          "x": 0.1,
          "xanchor": "right",
          "y": 0,
          "yanchor": "top"
         }
        ]
       }
      },
      "text/html": [
       "<div>                            <div id=\"08d9a9eb-aaba-4988-b695-bede911f9f13\" class=\"plotly-graph-div\" style=\"height:525px; width:100%;\"></div>            <script type=\"text/javascript\">                require([\"plotly\"], function(Plotly) {                    window.PLOTLYENV=window.PLOTLYENV || {};                                    if (document.getElementById(\"08d9a9eb-aaba-4988-b695-bede911f9f13\")) {                    Plotly.newPlot(                        \"08d9a9eb-aaba-4988-b695-bede911f9f13\",                        [{\"hovertemplate\":\"<b>%{hovertext}</b><br><br>label=red<br>frame=2<br>x=%{x}<br>y=%{y}<br>z=%{z}<extra></extra>\",\"hovertext\":[\"red\"],\"ids\":[\"red\"],\"legendgroup\":\"red\",\"marker\":{\"color\":\"#636efa\",\"symbol\":\"circle\"},\"mode\":\"markers\",\"name\":\"red\",\"scene\":\"scene\",\"showlegend\":true,\"x\":[0.342658578551128],\"y\":[0.39826446221947037],\"z\":[0.4837798479595406],\"type\":\"scatter3d\"},{\"hovertemplate\":\"<b>%{hovertext}</b><br><br>label=blue<br>frame=2<br>x=%{x}<br>y=%{y}<br>z=%{z}<extra></extra>\",\"hovertext\":[\"blue\"],\"ids\":[\"blue\"],\"legendgroup\":\"blue\",\"marker\":{\"color\":\"#EF553B\",\"symbol\":\"circle\"},\"mode\":\"markers\",\"name\":\"blue\",\"scene\":\"scene\",\"showlegend\":true,\"x\":[0.342658578551128],\"y\":[0.39826446221947037],\"z\":[0.4837798479595406],\"type\":\"scatter3d\"},{\"hovertemplate\":\"<b>%{hovertext}</b><br><br>label=green<br>frame=2<br>x=%{x}<br>y=%{y}<br>z=%{z}<extra></extra>\",\"hovertext\":[\"green\"],\"ids\":[\"green\"],\"legendgroup\":\"green\",\"marker\":{\"color\":\"#00cc96\",\"symbol\":\"circle\"},\"mode\":\"markers\",\"name\":\"green\",\"scene\":\"scene\",\"showlegend\":true,\"x\":[0.342658578551128],\"y\":[0.39826446221947037],\"z\":[0.4837798479595406],\"type\":\"scatter3d\"},{\"hovertemplate\":\"<b>%{hovertext}</b><br><br>label=anger<br>frame=2<br>x=%{x}<br>y=%{y}<br>z=%{z}<extra></extra>\",\"hovertext\":[\"anger\"],\"ids\":[\"anger\"],\"legendgroup\":\"anger\",\"marker\":{\"color\":\"#ab63fa\",\"symbol\":\"circle\"},\"mode\":\"markers\",\"name\":\"anger\",\"scene\":\"scene\",\"showlegend\":true,\"x\":[0.342658578551128],\"y\":[0.39826446221947037],\"z\":[0.4837798479595406],\"type\":\"scatter3d\"},{\"hovertemplate\":\"<b>%{hovertext}</b><br><br>label=joy<br>frame=2<br>x=%{x}<br>y=%{y}<br>z=%{z}<extra></extra>\",\"hovertext\":[\"joy\"],\"ids\":[\"joy\"],\"legendgroup\":\"joy\",\"marker\":{\"color\":\"#FFA15A\",\"symbol\":\"circle\"},\"mode\":\"markers\",\"name\":\"joy\",\"scene\":\"scene\",\"showlegend\":true,\"x\":[0.342658578551128],\"y\":[0.39826446221947037],\"z\":[0.4837798479595406],\"type\":\"scatter3d\"},{\"hovertemplate\":\"<b>%{hovertext}</b><br><br>label=grass<br>frame=2<br>x=%{x}<br>y=%{y}<br>z=%{z}<extra></extra>\",\"hovertext\":[\"grass\"],\"ids\":[\"grass\"],\"legendgroup\":\"grass\",\"marker\":{\"color\":\"#19d3f3\",\"symbol\":\"circle\"},\"mode\":\"markers\",\"name\":\"grass\",\"scene\":\"scene\",\"showlegend\":true,\"x\":[0.342658578551128],\"y\":[0.39826446221947037],\"z\":[0.4837798479595406],\"type\":\"scatter3d\"},{\"hovertemplate\":\"<b>%{hovertext}</b><br><br>label=sunflower<br>frame=2<br>x=%{x}<br>y=%{y}<br>z=%{z}<extra></extra>\",\"hovertext\":[\"sunflower\"],\"ids\":[\"sunflower\"],\"legendgroup\":\"sunflower\",\"marker\":{\"color\":\"#FF6692\",\"symbol\":\"circle\"},\"mode\":\"markers\",\"name\":\"sunflower\",\"scene\":\"scene\",\"showlegend\":true,\"x\":[0.342658578551128],\"y\":[0.39826446221947037],\"z\":[0.4837798479595406],\"type\":\"scatter3d\"},{\"hovertemplate\":\"<b>%{hovertext}</b><br><br>label=yellow<br>frame=2<br>x=%{x}<br>y=%{y}<br>z=%{z}<extra></extra>\",\"hovertext\":[\"yellow\"],\"ids\":[\"yellow\"],\"legendgroup\":\"yellow\",\"marker\":{\"color\":\"#B6E880\",\"symbol\":\"circle\"},\"mode\":\"markers\",\"name\":\"yellow\",\"scene\":\"scene\",\"showlegend\":true,\"x\":[0.342658578551128],\"y\":[0.39826446221947037],\"z\":[0.4837798479595406],\"type\":\"scatter3d\"}],                        {\"template\":{\"data\":{\"histogram2dcontour\":[{\"type\":\"histogram2dcontour\",\"colorbar\":{\"outlinewidth\":0,\"ticks\":\"\"},\"colorscale\":[[0.0,\"#0d0887\"],[0.1111111111111111,\"#46039f\"],[0.2222222222222222,\"#7201a8\"],[0.3333333333333333,\"#9c179e\"],[0.4444444444444444,\"#bd3786\"],[0.5555555555555556,\"#d8576b\"],[0.6666666666666666,\"#ed7953\"],[0.7777777777777778,\"#fb9f3a\"],[0.8888888888888888,\"#fdca26\"],[1.0,\"#f0f921\"]]}],\"choropleth\":[{\"type\":\"choropleth\",\"colorbar\":{\"outlinewidth\":0,\"ticks\":\"\"}}],\"histogram2d\":[{\"type\":\"histogram2d\",\"colorbar\":{\"outlinewidth\":0,\"ticks\":\"\"},\"colorscale\":[[0.0,\"#0d0887\"],[0.1111111111111111,\"#46039f\"],[0.2222222222222222,\"#7201a8\"],[0.3333333333333333,\"#9c179e\"],[0.4444444444444444,\"#bd3786\"],[0.5555555555555556,\"#d8576b\"],[0.6666666666666666,\"#ed7953\"],[0.7777777777777778,\"#fb9f3a\"],[0.8888888888888888,\"#fdca26\"],[1.0,\"#f0f921\"]]}],\"heatmap\":[{\"type\":\"heatmap\",\"colorbar\":{\"outlinewidth\":0,\"ticks\":\"\"},\"colorscale\":[[0.0,\"#0d0887\"],[0.1111111111111111,\"#46039f\"],[0.2222222222222222,\"#7201a8\"],[0.3333333333333333,\"#9c179e\"],[0.4444444444444444,\"#bd3786\"],[0.5555555555555556,\"#d8576b\"],[0.6666666666666666,\"#ed7953\"],[0.7777777777777778,\"#fb9f3a\"],[0.8888888888888888,\"#fdca26\"],[1.0,\"#f0f921\"]]}],\"heatmapgl\":[{\"type\":\"heatmapgl\",\"colorbar\":{\"outlinewidth\":0,\"ticks\":\"\"},\"colorscale\":[[0.0,\"#0d0887\"],[0.1111111111111111,\"#46039f\"],[0.2222222222222222,\"#7201a8\"],[0.3333333333333333,\"#9c179e\"],[0.4444444444444444,\"#bd3786\"],[0.5555555555555556,\"#d8576b\"],[0.6666666666666666,\"#ed7953\"],[0.7777777777777778,\"#fb9f3a\"],[0.8888888888888888,\"#fdca26\"],[1.0,\"#f0f921\"]]}],\"contourcarpet\":[{\"type\":\"contourcarpet\",\"colorbar\":{\"outlinewidth\":0,\"ticks\":\"\"}}],\"contour\":[{\"type\":\"contour\",\"colorbar\":{\"outlinewidth\":0,\"ticks\":\"\"},\"colorscale\":[[0.0,\"#0d0887\"],[0.1111111111111111,\"#46039f\"],[0.2222222222222222,\"#7201a8\"],[0.3333333333333333,\"#9c179e\"],[0.4444444444444444,\"#bd3786\"],[0.5555555555555556,\"#d8576b\"],[0.6666666666666666,\"#ed7953\"],[0.7777777777777778,\"#fb9f3a\"],[0.8888888888888888,\"#fdca26\"],[1.0,\"#f0f921\"]]}],\"surface\":[{\"type\":\"surface\",\"colorbar\":{\"outlinewidth\":0,\"ticks\":\"\"},\"colorscale\":[[0.0,\"#0d0887\"],[0.1111111111111111,\"#46039f\"],[0.2222222222222222,\"#7201a8\"],[0.3333333333333333,\"#9c179e\"],[0.4444444444444444,\"#bd3786\"],[0.5555555555555556,\"#d8576b\"],[0.6666666666666666,\"#ed7953\"],[0.7777777777777778,\"#fb9f3a\"],[0.8888888888888888,\"#fdca26\"],[1.0,\"#f0f921\"]]}],\"mesh3d\":[{\"type\":\"mesh3d\",\"colorbar\":{\"outlinewidth\":0,\"ticks\":\"\"}}],\"scatter\":[{\"fillpattern\":{\"fillmode\":\"overlay\",\"size\":10,\"solidity\":0.2},\"type\":\"scatter\"}],\"parcoords\":[{\"type\":\"parcoords\",\"line\":{\"colorbar\":{\"outlinewidth\":0,\"ticks\":\"\"}}}],\"scatterpolargl\":[{\"type\":\"scatterpolargl\",\"marker\":{\"colorbar\":{\"outlinewidth\":0,\"ticks\":\"\"}}}],\"bar\":[{\"error_x\":{\"color\":\"#2a3f5f\"},\"error_y\":{\"color\":\"#2a3f5f\"},\"marker\":{\"line\":{\"color\":\"#E5ECF6\",\"width\":0.5},\"pattern\":{\"fillmode\":\"overlay\",\"size\":10,\"solidity\":0.2}},\"type\":\"bar\"}],\"scattergeo\":[{\"type\":\"scattergeo\",\"marker\":{\"colorbar\":{\"outlinewidth\":0,\"ticks\":\"\"}}}],\"scatterpolar\":[{\"type\":\"scatterpolar\",\"marker\":{\"colorbar\":{\"outlinewidth\":0,\"ticks\":\"\"}}}],\"histogram\":[{\"marker\":{\"pattern\":{\"fillmode\":\"overlay\",\"size\":10,\"solidity\":0.2}},\"type\":\"histogram\"}],\"scattergl\":[{\"type\":\"scattergl\",\"marker\":{\"colorbar\":{\"outlinewidth\":0,\"ticks\":\"\"}}}],\"scatter3d\":[{\"type\":\"scatter3d\",\"line\":{\"colorbar\":{\"outlinewidth\":0,\"ticks\":\"\"}},\"marker\":{\"colorbar\":{\"outlinewidth\":0,\"ticks\":\"\"}}}],\"scattermapbox\":[{\"type\":\"scattermapbox\",\"marker\":{\"colorbar\":{\"outlinewidth\":0,\"ticks\":\"\"}}}],\"scatterternary\":[{\"type\":\"scatterternary\",\"marker\":{\"colorbar\":{\"outlinewidth\":0,\"ticks\":\"\"}}}],\"scattercarpet\":[{\"type\":\"scattercarpet\",\"marker\":{\"colorbar\":{\"outlinewidth\":0,\"ticks\":\"\"}}}],\"carpet\":[{\"aaxis\":{\"endlinecolor\":\"#2a3f5f\",\"gridcolor\":\"white\",\"linecolor\":\"white\",\"minorgridcolor\":\"white\",\"startlinecolor\":\"#2a3f5f\"},\"baxis\":{\"endlinecolor\":\"#2a3f5f\",\"gridcolor\":\"white\",\"linecolor\":\"white\",\"minorgridcolor\":\"white\",\"startlinecolor\":\"#2a3f5f\"},\"type\":\"carpet\"}],\"table\":[{\"cells\":{\"fill\":{\"color\":\"#EBF0F8\"},\"line\":{\"color\":\"white\"}},\"header\":{\"fill\":{\"color\":\"#C8D4E3\"},\"line\":{\"color\":\"white\"}},\"type\":\"table\"}],\"barpolar\":[{\"marker\":{\"line\":{\"color\":\"#E5ECF6\",\"width\":0.5},\"pattern\":{\"fillmode\":\"overlay\",\"size\":10,\"solidity\":0.2}},\"type\":\"barpolar\"}],\"pie\":[{\"automargin\":true,\"type\":\"pie\"}]},\"layout\":{\"autotypenumbers\":\"strict\",\"colorway\":[\"#636efa\",\"#EF553B\",\"#00cc96\",\"#ab63fa\",\"#FFA15A\",\"#19d3f3\",\"#FF6692\",\"#B6E880\",\"#FF97FF\",\"#FECB52\"],\"font\":{\"color\":\"#2a3f5f\"},\"hovermode\":\"closest\",\"hoverlabel\":{\"align\":\"left\"},\"paper_bgcolor\":\"white\",\"plot_bgcolor\":\"#E5ECF6\",\"polar\":{\"bgcolor\":\"#E5ECF6\",\"angularaxis\":{\"gridcolor\":\"white\",\"linecolor\":\"white\",\"ticks\":\"\"},\"radialaxis\":{\"gridcolor\":\"white\",\"linecolor\":\"white\",\"ticks\":\"\"}},\"ternary\":{\"bgcolor\":\"#E5ECF6\",\"aaxis\":{\"gridcolor\":\"white\",\"linecolor\":\"white\",\"ticks\":\"\"},\"baxis\":{\"gridcolor\":\"white\",\"linecolor\":\"white\",\"ticks\":\"\"},\"caxis\":{\"gridcolor\":\"white\",\"linecolor\":\"white\",\"ticks\":\"\"}},\"coloraxis\":{\"colorbar\":{\"outlinewidth\":0,\"ticks\":\"\"}},\"colorscale\":{\"sequential\":[[0.0,\"#0d0887\"],[0.1111111111111111,\"#46039f\"],[0.2222222222222222,\"#7201a8\"],[0.3333333333333333,\"#9c179e\"],[0.4444444444444444,\"#bd3786\"],[0.5555555555555556,\"#d8576b\"],[0.6666666666666666,\"#ed7953\"],[0.7777777777777778,\"#fb9f3a\"],[0.8888888888888888,\"#fdca26\"],[1.0,\"#f0f921\"]],\"sequentialminus\":[[0.0,\"#0d0887\"],[0.1111111111111111,\"#46039f\"],[0.2222222222222222,\"#7201a8\"],[0.3333333333333333,\"#9c179e\"],[0.4444444444444444,\"#bd3786\"],[0.5555555555555556,\"#d8576b\"],[0.6666666666666666,\"#ed7953\"],[0.7777777777777778,\"#fb9f3a\"],[0.8888888888888888,\"#fdca26\"],[1.0,\"#f0f921\"]],\"diverging\":[[0,\"#8e0152\"],[0.1,\"#c51b7d\"],[0.2,\"#de77ae\"],[0.3,\"#f1b6da\"],[0.4,\"#fde0ef\"],[0.5,\"#f7f7f7\"],[0.6,\"#e6f5d0\"],[0.7,\"#b8e186\"],[0.8,\"#7fbc41\"],[0.9,\"#4d9221\"],[1,\"#276419\"]]},\"xaxis\":{\"gridcolor\":\"white\",\"linecolor\":\"white\",\"ticks\":\"\",\"title\":{\"standoff\":15},\"zerolinecolor\":\"white\",\"automargin\":true,\"zerolinewidth\":2},\"yaxis\":{\"gridcolor\":\"white\",\"linecolor\":\"white\",\"ticks\":\"\",\"title\":{\"standoff\":15},\"zerolinecolor\":\"white\",\"automargin\":true,\"zerolinewidth\":2},\"scene\":{\"xaxis\":{\"backgroundcolor\":\"#E5ECF6\",\"gridcolor\":\"white\",\"linecolor\":\"white\",\"showbackground\":true,\"ticks\":\"\",\"zerolinecolor\":\"white\",\"gridwidth\":2},\"yaxis\":{\"backgroundcolor\":\"#E5ECF6\",\"gridcolor\":\"white\",\"linecolor\":\"white\",\"showbackground\":true,\"ticks\":\"\",\"zerolinecolor\":\"white\",\"gridwidth\":2},\"zaxis\":{\"backgroundcolor\":\"#E5ECF6\",\"gridcolor\":\"white\",\"linecolor\":\"white\",\"showbackground\":true,\"ticks\":\"\",\"zerolinecolor\":\"white\",\"gridwidth\":2}},\"shapedefaults\":{\"line\":{\"color\":\"#2a3f5f\"}},\"annotationdefaults\":{\"arrowcolor\":\"#2a3f5f\",\"arrowhead\":0,\"arrowwidth\":1},\"geo\":{\"bgcolor\":\"white\",\"landcolor\":\"#E5ECF6\",\"subunitcolor\":\"white\",\"showland\":true,\"showlakes\":true,\"lakecolor\":\"white\"},\"title\":{\"x\":0.05},\"mapbox\":{\"style\":\"light\"}}},\"scene\":{\"domain\":{\"x\":[0.0,1.0],\"y\":[0.0,1.0]},\"xaxis\":{\"title\":{\"text\":\"x\"},\"range\":[0,1]},\"yaxis\":{\"title\":{\"text\":\"y\"},\"range\":[0,1]},\"zaxis\":{\"title\":{\"text\":\"z\"}}},\"legend\":{\"title\":{\"text\":\"label\"},\"tracegroupgap\":0},\"margin\":{\"t\":60},\"updatemenus\":[{\"buttons\":[{\"args\":[null,{\"frame\":{\"duration\":500,\"redraw\":true},\"mode\":\"immediate\",\"fromcurrent\":true,\"transition\":{\"duration\":500,\"easing\":\"linear\"}}],\"label\":\"&#9654;\",\"method\":\"animate\"},{\"args\":[[null],{\"frame\":{\"duration\":0,\"redraw\":true},\"mode\":\"immediate\",\"fromcurrent\":true,\"transition\":{\"duration\":0,\"easing\":\"linear\"}}],\"label\":\"&#9724;\",\"method\":\"animate\"}],\"direction\":\"left\",\"pad\":{\"r\":10,\"t\":70},\"showactive\":false,\"type\":\"buttons\",\"x\":0.1,\"xanchor\":\"right\",\"y\":0,\"yanchor\":\"top\"}],\"sliders\":[{\"active\":0,\"currentvalue\":{\"prefix\":\"frame=\"},\"len\":0.9,\"pad\":{\"b\":10,\"t\":60},\"steps\":[{\"args\":[[\"2\"],{\"frame\":{\"duration\":0,\"redraw\":true},\"mode\":\"immediate\",\"fromcurrent\":true,\"transition\":{\"duration\":0,\"easing\":\"linear\"}}],\"label\":\"2\",\"method\":\"animate\"},{\"args\":[[\"3\"],{\"frame\":{\"duration\":0,\"redraw\":true},\"mode\":\"immediate\",\"fromcurrent\":true,\"transition\":{\"duration\":0,\"easing\":\"linear\"}}],\"label\":\"3\",\"method\":\"animate\"},{\"args\":[[\"4\"],{\"frame\":{\"duration\":0,\"redraw\":true},\"mode\":\"immediate\",\"fromcurrent\":true,\"transition\":{\"duration\":0,\"easing\":\"linear\"}}],\"label\":\"4\",\"method\":\"animate\"},{\"args\":[[\"5\"],{\"frame\":{\"duration\":0,\"redraw\":true},\"mode\":\"immediate\",\"fromcurrent\":true,\"transition\":{\"duration\":0,\"easing\":\"linear\"}}],\"label\":\"5\",\"method\":\"animate\"},{\"args\":[[\"6\"],{\"frame\":{\"duration\":0,\"redraw\":true},\"mode\":\"immediate\",\"fromcurrent\":true,\"transition\":{\"duration\":0,\"easing\":\"linear\"}}],\"label\":\"6\",\"method\":\"animate\"},{\"args\":[[\"7\"],{\"frame\":{\"duration\":0,\"redraw\":true},\"mode\":\"immediate\",\"fromcurrent\":true,\"transition\":{\"duration\":0,\"easing\":\"linear\"}}],\"label\":\"7\",\"method\":\"animate\"}],\"x\":0.1,\"xanchor\":\"left\",\"y\":0,\"yanchor\":\"top\"}]},                        {\"responsive\": true}                    ).then(function(){\n",
       "                            Plotly.addFrames('08d9a9eb-aaba-4988-b695-bede911f9f13', [{\"data\":[{\"hovertemplate\":\"<b>%{hovertext}</b><br><br>label=red<br>frame=2<br>x=%{x}<br>y=%{y}<br>z=%{z}<extra></extra>\",\"hovertext\":[\"red\"],\"ids\":[\"red\"],\"legendgroup\":\"red\",\"marker\":{\"color\":\"#636efa\",\"symbol\":\"circle\"},\"mode\":\"markers\",\"name\":\"red\",\"scene\":\"scene\",\"showlegend\":true,\"x\":[0.342658578551128],\"y\":[0.39826446221947037],\"z\":[0.4837798479595406],\"type\":\"scatter3d\"},{\"hovertemplate\":\"<b>%{hovertext}</b><br><br>label=blue<br>frame=2<br>x=%{x}<br>y=%{y}<br>z=%{z}<extra></extra>\",\"hovertext\":[\"blue\"],\"ids\":[\"blue\"],\"legendgroup\":\"blue\",\"marker\":{\"color\":\"#EF553B\",\"symbol\":\"circle\"},\"mode\":\"markers\",\"name\":\"blue\",\"scene\":\"scene\",\"showlegend\":true,\"x\":[0.342658578551128],\"y\":[0.39826446221947037],\"z\":[0.4837798479595406],\"type\":\"scatter3d\"},{\"hovertemplate\":\"<b>%{hovertext}</b><br><br>label=green<br>frame=2<br>x=%{x}<br>y=%{y}<br>z=%{z}<extra></extra>\",\"hovertext\":[\"green\"],\"ids\":[\"green\"],\"legendgroup\":\"green\",\"marker\":{\"color\":\"#00cc96\",\"symbol\":\"circle\"},\"mode\":\"markers\",\"name\":\"green\",\"scene\":\"scene\",\"showlegend\":true,\"x\":[0.342658578551128],\"y\":[0.39826446221947037],\"z\":[0.4837798479595406],\"type\":\"scatter3d\"},{\"hovertemplate\":\"<b>%{hovertext}</b><br><br>label=anger<br>frame=2<br>x=%{x}<br>y=%{y}<br>z=%{z}<extra></extra>\",\"hovertext\":[\"anger\"],\"ids\":[\"anger\"],\"legendgroup\":\"anger\",\"marker\":{\"color\":\"#ab63fa\",\"symbol\":\"circle\"},\"mode\":\"markers\",\"name\":\"anger\",\"scene\":\"scene\",\"showlegend\":true,\"x\":[0.342658578551128],\"y\":[0.39826446221947037],\"z\":[0.4837798479595406],\"type\":\"scatter3d\"},{\"hovertemplate\":\"<b>%{hovertext}</b><br><br>label=joy<br>frame=2<br>x=%{x}<br>y=%{y}<br>z=%{z}<extra></extra>\",\"hovertext\":[\"joy\"],\"ids\":[\"joy\"],\"legendgroup\":\"joy\",\"marker\":{\"color\":\"#FFA15A\",\"symbol\":\"circle\"},\"mode\":\"markers\",\"name\":\"joy\",\"scene\":\"scene\",\"showlegend\":true,\"x\":[0.342658578551128],\"y\":[0.39826446221947037],\"z\":[0.4837798479595406],\"type\":\"scatter3d\"},{\"hovertemplate\":\"<b>%{hovertext}</b><br><br>label=grass<br>frame=2<br>x=%{x}<br>y=%{y}<br>z=%{z}<extra></extra>\",\"hovertext\":[\"grass\"],\"ids\":[\"grass\"],\"legendgroup\":\"grass\",\"marker\":{\"color\":\"#19d3f3\",\"symbol\":\"circle\"},\"mode\":\"markers\",\"name\":\"grass\",\"scene\":\"scene\",\"showlegend\":true,\"x\":[0.342658578551128],\"y\":[0.39826446221947037],\"z\":[0.4837798479595406],\"type\":\"scatter3d\"},{\"hovertemplate\":\"<b>%{hovertext}</b><br><br>label=sunflower<br>frame=2<br>x=%{x}<br>y=%{y}<br>z=%{z}<extra></extra>\",\"hovertext\":[\"sunflower\"],\"ids\":[\"sunflower\"],\"legendgroup\":\"sunflower\",\"marker\":{\"color\":\"#FF6692\",\"symbol\":\"circle\"},\"mode\":\"markers\",\"name\":\"sunflower\",\"scene\":\"scene\",\"showlegend\":true,\"x\":[0.342658578551128],\"y\":[0.39826446221947037],\"z\":[0.4837798479595406],\"type\":\"scatter3d\"},{\"hovertemplate\":\"<b>%{hovertext}</b><br><br>label=yellow<br>frame=2<br>x=%{x}<br>y=%{y}<br>z=%{z}<extra></extra>\",\"hovertext\":[\"yellow\"],\"ids\":[\"yellow\"],\"legendgroup\":\"yellow\",\"marker\":{\"color\":\"#B6E880\",\"symbol\":\"circle\"},\"mode\":\"markers\",\"name\":\"yellow\",\"scene\":\"scene\",\"showlegend\":true,\"x\":[0.342658578551128],\"y\":[0.39826446221947037],\"z\":[0.4837798479595406],\"type\":\"scatter3d\"}],\"name\":\"2\"},{\"data\":[{\"hovertemplate\":\"<b>%{hovertext}</b><br><br>label=red<br>frame=3<br>x=%{x}<br>y=%{y}<br>z=%{z}<extra></extra>\",\"hovertext\":[\"red\"],\"ids\":[\"red\"],\"legendgroup\":\"red\",\"marker\":{\"color\":\"#636efa\",\"symbol\":\"circle\"},\"mode\":\"markers\",\"name\":\"red\",\"scene\":\"scene\",\"showlegend\":true,\"x\":[0.19172405998970615],\"y\":[0.7001943858071247],\"z\":[0.48377984795954065],\"type\":\"scatter3d\"},{\"hovertemplate\":\"<b>%{hovertext}</b><br><br>label=blue<br>frame=3<br>x=%{x}<br>y=%{y}<br>z=%{z}<extra></extra>\",\"hovertext\":[\"blue\"],\"ids\":[\"blue\"],\"legendgroup\":\"blue\",\"marker\":{\"color\":\"#EF553B\",\"symbol\":\"circle\"},\"mode\":\"markers\",\"name\":\"blue\",\"scene\":\"scene\",\"showlegend\":true,\"x\":[0.13073036117589917],\"y\":[0.12837370472528226],\"z\":[0.48377984795954065],\"type\":\"scatter3d\"},{\"hovertemplate\":\"<b>%{hovertext}</b><br><br>label=green<br>frame=3<br>x=%{x}<br>y=%{y}<br>z=%{z}<extra></extra>\",\"hovertext\":[\"green\"],\"ids\":[\"green\"],\"legendgroup\":\"green\",\"marker\":{\"color\":\"#00cc96\",\"symbol\":\"circle\"},\"mode\":\"markers\",\"name\":\"green\",\"scene\":\"scene\",\"showlegend\":true,\"x\":[0.7055213144877786],\"y\":[0.3662252961260041],\"z\":[0.48377984795954065],\"type\":\"scatter3d\"}],\"name\":\"3\"},{\"data\":[{\"hovertemplate\":\"<b>%{hovertext}</b><br><br>label=red<br>frame=4<br>x=%{x}<br>y=%{y}<br>z=%{z}<extra></extra>\",\"hovertext\":[\"red\"],\"ids\":[\"red\"],\"legendgroup\":\"red\",\"marker\":{\"color\":\"#636efa\",\"symbol\":\"circle\"},\"mode\":\"markers\",\"name\":\"red\",\"scene\":\"scene\",\"showlegend\":true,\"x\":[0.14802352725871384],\"y\":[0.25038245245808083],\"z\":[0.8687236114904789],\"type\":\"scatter3d\"},{\"hovertemplate\":\"<b>%{hovertext}</b><br><br>label=blue<br>frame=4<br>x=%{x}<br>y=%{y}<br>z=%{z}<extra></extra>\",\"hovertext\":[\"blue\"],\"ids\":[\"blue\"],\"legendgroup\":\"blue\",\"marker\":{\"color\":\"#EF553B\",\"symbol\":\"circle\"},\"mode\":\"markers\",\"name\":\"blue\",\"scene\":\"scene\",\"showlegend\":true,\"x\":[0.12062803362092683],\"y\":[0.18239125276008497],\"z\":[0.1526459936659735],\"type\":\"scatter3d\"},{\"hovertemplate\":\"<b>%{hovertext}</b><br><br>label=green<br>frame=4<br>x=%{x}<br>y=%{y}<br>z=%{z}<extra></extra>\",\"hovertext\":[\"green\"],\"ids\":[\"green\"],\"legendgroup\":\"green\",\"marker\":{\"color\":\"#00cc96\",\"symbol\":\"circle\"},\"mode\":\"markers\",\"name\":\"green\",\"scene\":\"scene\",\"showlegend\":true,\"x\":[0.10198275332487135],\"y\":[0.749955749796174],\"z\":[0.44283052164294695],\"type\":\"scatter3d\"},{\"hovertemplate\":\"<b>%{hovertext}</b><br><br>label=anger<br>frame=4<br>x=%{x}<br>y=%{y}<br>z=%{z}<extra></extra>\",\"hovertext\":[\"anger\"],\"ids\":[\"anger\"],\"legendgroup\":\"anger\",\"marker\":{\"color\":\"#ab63fa\",\"symbol\":\"circle\"},\"mode\":\"markers\",\"name\":\"anger\",\"scene\":\"scene\",\"showlegend\":true,\"x\":[1.0],\"y\":[0.4103283938635416],\"z\":[0.4709192650387633],\"type\":\"scatter3d\"}],\"name\":\"4\"},{\"data\":[{\"hovertemplate\":\"<b>%{hovertext}</b><br><br>label=red<br>frame=5<br>x=%{x}<br>y=%{y}<br>z=%{z}<extra></extra>\",\"hovertext\":[\"red\"],\"ids\":[\"red\"],\"legendgroup\":\"red\",\"marker\":{\"color\":\"#636efa\",\"symbol\":\"circle\"},\"mode\":\"markers\",\"name\":\"red\",\"scene\":\"scene\",\"showlegend\":true,\"x\":[0.052142186426400075],\"y\":[0.40905943954851975],\"z\":[0.2824627477882239],\"type\":\"scatter3d\"},{\"hovertemplate\":\"<b>%{hovertext}</b><br><br>label=blue<br>frame=5<br>x=%{x}<br>y=%{y}<br>z=%{z}<extra></extra>\",\"hovertext\":[\"blue\"],\"ids\":[\"blue\"],\"legendgroup\":\"blue\",\"marker\":{\"color\":\"#EF553B\",\"symbol\":\"circle\"},\"mode\":\"markers\",\"name\":\"blue\",\"scene\":\"scene\",\"showlegend\":true,\"x\":[0.04342016940934851],\"y\":[0.35152740750455125],\"z\":[0.22239692213724402],\"type\":\"scatter3d\"},{\"hovertemplate\":\"<b>%{hovertext}</b><br><br>label=green<br>frame=5<br>x=%{x}<br>y=%{y}<br>z=%{z}<extra></extra>\",\"hovertext\":[\"green\"],\"ids\":[\"green\"],\"legendgroup\":\"green\",\"marker\":{\"color\":\"#00cc96\",\"symbol\":\"circle\"},\"mode\":\"markers\",\"name\":\"green\",\"scene\":\"scene\",\"showlegend\":true,\"x\":[0.0],\"y\":[0.42837294836323997],\"z\":[0.9197615438378657],\"type\":\"scatter3d\"},{\"hovertemplate\":\"<b>%{hovertext}</b><br><br>label=anger<br>frame=5<br>x=%{x}<br>y=%{y}<br>z=%{z}<extra></extra>\",\"hovertext\":[\"anger\"],\"ids\":[\"anger\"],\"legendgroup\":\"anger\",\"marker\":{\"color\":\"#ab63fa\",\"symbol\":\"circle\"},\"mode\":\"markers\",\"name\":\"anger\",\"scene\":\"scene\",\"showlegend\":true,\"x\":[0.8048120728413659],\"y\":[0.8023625156810409],\"z\":[0.4681649085735815],\"type\":\"scatter3d\"},{\"hovertemplate\":\"<b>%{hovertext}</b><br><br>label=joy<br>frame=5<br>x=%{x}<br>y=%{y}<br>z=%{z}<extra></extra>\",\"hovertext\":[\"joy\"],\"ids\":[\"joy\"],\"legendgroup\":\"joy\",\"marker\":{\"color\":\"#FFA15A\",\"symbol\":\"circle\"},\"mode\":\"markers\",\"name\":\"joy\",\"scene\":\"scene\",\"showlegend\":true,\"x\":[0.8129184640785257],\"y\":[0.0],\"z\":[0.5261131174607881],\"type\":\"scatter3d\"}],\"name\":\"5\"},{\"data\":[{\"hovertemplate\":\"<b>%{hovertext}</b><br><br>label=red<br>frame=6<br>x=%{x}<br>y=%{y}<br>z=%{z}<extra></extra>\",\"hovertext\":[\"red\"],\"ids\":[\"red\"],\"legendgroup\":\"red\",\"marker\":{\"color\":\"#636efa\",\"symbol\":\"circle\"},\"mode\":\"markers\",\"name\":\"red\",\"scene\":\"scene\",\"showlegend\":true,\"x\":[0.06380067419461095],\"y\":[0.2206373634848181],\"z\":[0.5254215039914117],\"type\":\"scatter3d\"},{\"hovertemplate\":\"<b>%{hovertext}</b><br><br>label=blue<br>frame=6<br>x=%{x}<br>y=%{y}<br>z=%{z}<extra></extra>\",\"hovertext\":[\"blue\"],\"ids\":[\"blue\"],\"legendgroup\":\"blue\",\"marker\":{\"color\":\"#EF553B\",\"symbol\":\"circle\"},\"mode\":\"markers\",\"name\":\"blue\",\"scene\":\"scene\",\"showlegend\":true,\"x\":[0.05646000112480576],\"y\":[0.18525111504241393],\"z\":[0.4606732900306567],\"type\":\"scatter3d\"},{\"hovertemplate\":\"<b>%{hovertext}</b><br><br>label=green<br>frame=6<br>x=%{x}<br>y=%{y}<br>z=%{z}<extra></extra>\",\"hovertext\":[\"green\"],\"ids\":[\"green\"],\"legendgroup\":\"green\",\"marker\":{\"color\":\"#00cc96\",\"symbol\":\"circle\"},\"mode\":\"markers\",\"name\":\"green\",\"scene\":\"scene\",\"showlegend\":true,\"x\":[0.005205420263580427],\"y\":[0.3750398625162233],\"z\":[0.5092196215908592],\"type\":\"scatter3d\"},{\"hovertemplate\":\"<b>%{hovertext}</b><br><br>label=anger<br>frame=6<br>x=%{x}<br>y=%{y}<br>z=%{z}<extra></extra>\",\"hovertext\":[\"anger\"],\"ids\":[\"anger\"],\"legendgroup\":\"anger\",\"marker\":{\"color\":\"#ab63fa\",\"symbol\":\"circle\"},\"mode\":\"markers\",\"name\":\"anger\",\"scene\":\"scene\",\"showlegend\":true,\"x\":[0.8121757184358765],\"y\":[0.35642374085769674],\"z\":[1.0],\"type\":\"scatter3d\"},{\"hovertemplate\":\"<b>%{hovertext}</b><br><br>label=joy<br>frame=6<br>x=%{x}<br>y=%{y}<br>z=%{z}<extra></extra>\",\"hovertext\":[\"joy\"],\"ids\":[\"joy\"],\"legendgroup\":\"joy\",\"marker\":{\"color\":\"#FFA15A\",\"symbol\":\"circle\"},\"mode\":\"markers\",\"name\":\"joy\",\"scene\":\"scene\",\"showlegend\":true,\"x\":[0.8230714660847094],\"y\":[0.25223469141567006],\"z\":[0.0],\"type\":\"scatter3d\"},{\"hovertemplate\":\"<b>%{hovertext}</b><br><br>label=grass<br>frame=6<br>x=%{x}<br>y=%{y}<br>z=%{z}<extra></extra>\",\"hovertext\":[\"grass\"],\"ids\":[\"grass\"],\"legendgroup\":\"grass\",\"marker\":{\"color\":\"#19d3f3\",\"symbol\":\"circle\"},\"mode\":\"markers\",\"name\":\"grass\",\"scene\":\"scene\",\"showlegend\":true,\"x\":[0.2952381912031853],\"y\":[1.0],\"z\":[0.40736467214431626],\"type\":\"scatter3d\"}],\"name\":\"6\"},{\"data\":[{\"hovertemplate\":\"<b>%{hovertext}</b><br><br>label=red<br>frame=7<br>x=%{x}<br>y=%{y}<br>z=%{z}<extra></extra>\",\"hovertext\":[\"red\"],\"ids\":[\"red\"],\"legendgroup\":\"red\",\"marker\":{\"color\":\"#636efa\",\"symbol\":\"circle\"},\"mode\":\"markers\",\"name\":\"red\",\"scene\":\"scene\",\"showlegend\":true,\"x\":[0.11564331523830787],\"y\":[0.12649064394981702],\"z\":[0.4553459893769424],\"type\":\"scatter3d\"},{\"hovertemplate\":\"<b>%{hovertext}</b><br><br>label=blue<br>frame=7<br>x=%{x}<br>y=%{y}<br>z=%{z}<extra></extra>\",\"hovertext\":[\"blue\"],\"ids\":[\"blue\"],\"legendgroup\":\"blue\",\"marker\":{\"color\":\"#EF553B\",\"symbol\":\"circle\"},\"mode\":\"markers\",\"name\":\"blue\",\"scene\":\"scene\",\"showlegend\":true,\"x\":[0.10953261124466739],\"y\":[0.11099478194054697],\"z\":[0.38408343666393957],\"type\":\"scatter3d\"},{\"hovertemplate\":\"<b>%{hovertext}</b><br><br>label=green<br>frame=7<br>x=%{x}<br>y=%{y}<br>z=%{z}<extra></extra>\",\"hovertext\":[\"green\"],\"ids\":[\"green\"],\"legendgroup\":\"green\",\"marker\":{\"color\":\"#00cc96\",\"symbol\":\"circle\"},\"mode\":\"markers\",\"name\":\"green\",\"scene\":\"scene\",\"showlegend\":true,\"x\":[0.042563957938466644],\"y\":[0.22449353974832262],\"z\":[0.590583313750296],\"type\":\"scatter3d\"},{\"hovertemplate\":\"<b>%{hovertext}</b><br><br>label=anger<br>frame=7<br>x=%{x}<br>y=%{y}<br>z=%{z}<extra></extra>\",\"hovertext\":[\"anger\"],\"ids\":[\"anger\"],\"legendgroup\":\"anger\",\"marker\":{\"color\":\"#ab63fa\",\"symbol\":\"circle\"},\"mode\":\"markers\",\"name\":\"anger\",\"scene\":\"scene\",\"showlegend\":true,\"x\":[0.8393560849495767],\"y\":[0.34339787806754835],\"z\":[0.7058601298646983],\"type\":\"scatter3d\"},{\"hovertemplate\":\"<b>%{hovertext}</b><br><br>label=joy<br>frame=7<br>x=%{x}<br>y=%{y}<br>z=%{z}<extra></extra>\",\"hovertext\":[\"joy\"],\"ids\":[\"joy\"],\"legendgroup\":\"joy\",\"marker\":{\"color\":\"#FFA15A\",\"symbol\":\"circle\"},\"mode\":\"markers\",\"name\":\"joy\",\"scene\":\"scene\",\"showlegend\":true,\"x\":[0.8520928366653602],\"y\":[0.31367045606285326],\"z\":[0.23111787097110828],\"type\":\"scatter3d\"},{\"hovertemplate\":\"<b>%{hovertext}</b><br><br>label=grass<br>frame=7<br>x=%{x}<br>y=%{y}<br>z=%{z}<extra></extra>\",\"hovertext\":[\"grass\"],\"ids\":[\"grass\"],\"legendgroup\":\"grass\",\"marker\":{\"color\":\"#19d3f3\",\"symbol\":\"circle\"},\"mode\":\"markers\",\"name\":\"grass\",\"scene\":\"scene\",\"showlegend\":true,\"x\":[0.2493966333623396],\"y\":[0.7801182272879147],\"z\":[0.9669257253423756],\"type\":\"scatter3d\"},{\"hovertemplate\":\"<b>%{hovertext}</b><br><br>label=sunflower<br>frame=7<br>x=%{x}<br>y=%{y}<br>z=%{z}<extra></extra>\",\"hovertext\":[\"sunflower\"],\"ids\":[\"sunflower\"],\"legendgroup\":\"sunflower\",\"marker\":{\"color\":\"#FF6692\",\"symbol\":\"circle\"},\"mode\":\"markers\",\"name\":\"sunflower\",\"scene\":\"scene\",\"showlegend\":true,\"x\":[0.19002461045917807],\"y\":[0.8886857084792897],\"z\":[0.05254246974742423],\"type\":\"scatter3d\"}],\"name\":\"7\"}]);\n",
       "                        }).then(function(){\n",
       "                            \n",
       "var gd = document.getElementById('08d9a9eb-aaba-4988-b695-bede911f9f13');\n",
       "var x = new MutationObserver(function (mutations, observer) {{\n",
       "        var display = window.getComputedStyle(gd).display;\n",
       "        if (!display || display === 'none') {{\n",
       "            console.log([gd, 'removed!']);\n",
       "            Plotly.purge(gd);\n",
       "            observer.disconnect();\n",
       "        }}\n",
       "}});\n",
       "\n",
       "// Listen for the removal of the full notebook cells\n",
       "var notebookContainer = gd.closest('#notebook-container');\n",
       "if (notebookContainer) {{\n",
       "    x.observe(notebookContainer, {childList: true});\n",
       "}}\n",
       "\n",
       "// Listen for the clearing of the current output cell\n",
       "var outputEl = gd.closest('.output');\n",
       "if (outputEl) {{\n",
       "    x.observe(outputEl, {childList: true});\n",
       "}}\n",
       "\n",
       "                        })                };                });            </script>        </div>"
      ]
     },
     "metadata": {},
     "output_type": "display_data"
    }
   ],
   "source": [
    "from sentence_transformers import SentenceTransformer, util\n",
    "from sklearn.decomposition import PCA\n",
    "import pandas as pd\n",
    "import plotly.express as px\n",
    "import torch\n",
    "\n",
    "embedder = SentenceTransformer('all-MiniLM-L6-v2')\n",
    "corpus = [\"red\", \"blue\", \"green\", \"anger\", \"joy\", \"grass\", \"sunflower\", \"yellow\"]\n",
    "result = pd.DataFrame()\n",
    "result[\"label\"] = corpus\n",
    "result[\"x\"] = 0\n",
    "result[\"y\"] = 0\n",
    "result[\"z\"] = 0\n",
    "result[\"frame\"] = 2\n",
    "\n",
    "for i in range(3, len(corpus)):\n",
    "\n",
    "    corpus_embeddings = embedder.encode(corpus[:i], convert_to_tensor=True)\n",
    "    three_dim = PCA(n_components=3, random_state=0).fit_transform(corpus_embeddings)\n",
    "\n",
    "    df = pd.DataFrame(data=[x for x in three_dim], columns=[\"x\", \"y\", \"z\"])\n",
    "    df[\"label\"] = corpus[:i]\n",
    "    df[\"frame\"] = i\n",
    "    result = pd.concat([result, df])\n",
    "\n",
    "# normalize\n",
    "result[\"x\"] = (result[\"x\"] - result[\"x\"].min()) / (result[\"x\"].max() - result[\"x\"].min())\n",
    "result[\"y\"] = (result[\"y\"] - result[\"y\"].min()) / (result[\"y\"].max() - result[\"y\"].min())\n",
    "result[\"z\"] = (result[\"z\"] - result[\"z\"].min()) / (result[\"z\"].max() - result[\"z\"].min())\n",
    "\n",
    "px.scatter_3d(result, x=\"x\", y=\"y\", z=\"z\", animation_frame=\"frame\", animation_group=\"label\",\n",
    "              color=\"label\", hover_name=\"label\",\n",
    "              range_x=[0,1], range_y=[0,1])"
   ]
  },
  {
   "cell_type": "code",
   "execution_count": 41,
   "metadata": {},
   "outputs": [
    {
     "data": {
      "image/png": "[encoded data removed]",
      "text/plain": [
       "<Figure size 300x100 with 1 Axes>"
      ]
     },
     "metadata": {},
     "output_type": "display_data"
    },
    {
     "data": {
      "image/png": "[encoded data removed]",
      "text/plain": [
       "<Figure size 400x100 with 1 Axes>"
      ]
     },
     "metadata": {},
     "output_type": "display_data"
    },
    {
     "data": {
      "image/png": "[encoded data removed]",
      "text/plain": [
       "<Figure size 500x100 with 1 Axes>"
      ]
     },
     "metadata": {},
     "output_type": "display_data"
    },
    {
     "data": {
      "image/png": "[encoded data removed]",
      "text/plain": [
       "<Figure size 600x100 with 1 Axes>"
      ]
     },
     "metadata": {},
     "output_type": "display_data"
    },
    {
     "data": {
      "image/png": "[encoded data removed]",
      "text/plain": [
       "<Figure size 700x100 with 1 Axes>"
      ]
     },
     "metadata": {},
     "output_type": "display_data"
    }
   ],
   "source": [
    "import seaborn as sns\n",
    "\n",
    "for i in range(3, len(corpus)):\n",
    "    sample = result[result[\"frame\"] == i][[\"x\", \"y\", \"z\"]]\n",
    "    pal = sns.color_palette(sample.values)\n",
    "    sns.palplot(pal)\n",
    "    "
   ]
  }
 ],
 "metadata": {
  "kernelspec": {
   "display_name": "Python 3",
   "language": "python",
   "name": "python3"
  },
  "language_info": {
   "codemirror_mode": {
    "name": "ipython",
    "version": 3
   },
   "file_extension": ".py",
   "mimetype": "text/x-python",
   "name": "python",
   "nbconvert_exporter": "python",
   "pygments_lexer": "ipython3",
   "version": "3.10.4"
  },
  "orig_nbformat": 4,
  "vscode": {
   "interpreter": {
    "hash": "3ad933181bd8a04b432d3370b9dc3b0662ad032c4dfaa4e4f1596c548f763858"
   }
  }
 },
 "nbformat": 4,
 "nbformat_minor": 2
}
